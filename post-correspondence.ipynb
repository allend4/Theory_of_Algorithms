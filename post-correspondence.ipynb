{
 "cells": [
  {
   "cell_type": "markdown",
   "id": "5d9704dc-889a-43cb-b68b-48dd9dd0a6ac",
   "metadata": {},
   "source": [
    "***\n",
    "Definition and explanation of the Post Correspondence Problem"
   ]
  },
  {
   "cell_type": "markdown",
   "id": "ffdee96e-5288-44b7-aebc-82ee40547623",
   "metadata": {},
   "source": [
    "# Post Correspondence Problem\n",
    "\n",
    "***"
   ]
  },
  {
   "cell_type": "markdown",
   "id": "646d3ff4-1563-461f-aa09-c7ea53bcffc4",
   "metadata": {},
   "source": [
    "### <b>What is it? <b>"
   ]
  },
  {
   "cell_type": "markdown",
   "id": "1e5f42bc-1aed-45b3-a760-315b40fbe8fc",
   "metadata": {},
   "source": [
    "Post Correspondence Problem (<b>PCP</b>) is a popular undecidable problem that was introduced by Emil Leon Post in 1946.<br>\n",
    "It is an undecidable decision problem, for which it is proved to be impossible to construct an algorithm that always leads to a correct yes-or-no answer."
   ]
  },
  {
   "cell_type": "markdown",
   "id": "ad3111d6-4a9c-4b72-85cc-58f5c9b39684",
   "metadata": {},
   "source": [
    "### <b>The Problem...</b>"
   ]
  },
  {
   "cell_type": "markdown",
   "id": "ef580fac-421d-4102-ac0e-de961b069144",
   "metadata": {},
   "source": [
    "As an example we have two lists, both containing N words.<br>\n",
    "The aim is to find out concatenation of these words in some sequence, so that both lists yield the same result."
   ]
  },
  {
   "cell_type": "code",
   "execution_count": 8,
   "id": "0b213647-9acf-499a-b819-be90e2bc7234",
   "metadata": {},
   "outputs": [],
   "source": [
    "# First list.\n",
    "L1 = ['a', 'ab', 'bba']"
   ]
  },
  {
   "cell_type": "code",
   "execution_count": 9,
   "id": "38397b9d-71a1-4fd9-9d4d-e66d32eebb7d",
   "metadata": {},
   "outputs": [],
   "source": [
    "# Second List.\n",
    "L2 = ['baa', 'aa', 'bb']"
   ]
  },
  {
   "cell_type": "markdown",
   "id": "b746bda7-02e3-47bb-af84-58fca897d90a",
   "metadata": {},
   "source": [
    "Both lists <b>L1</b> and <b>L2</b> have different stored values.<br>\n",
    "However by using a sequence <b>S</b>, which is a list of integers we can see both lists do correspond to each other."
   ]
  },
  {
   "cell_type": "code",
   "execution_count": 10,
   "id": "58bdb705-8c0d-4c99-96e3-45362704979c",
   "metadata": {},
   "outputs": [],
   "source": [
    "# A proposed solution.\n",
    "S = (2, 1, 2, 0)"
   ]
  },
  {
   "cell_type": "code",
   "execution_count": 11,
   "id": "66830116-378e-4aad-9104-0265185b2614",
   "metadata": {},
   "outputs": [],
   "source": [
    "# Apply the proposed solution to a tuple.\n",
    "def apply(S, L):\n",
    "    S_on_L = [''.join(L[i]) for i in S]\n",
    "    return ''.join(S_on_L)"
   ]
  },
  {
   "cell_type": "code",
   "execution_count": 12,
   "id": "607d9e53-31be-40e6-83a4-5a9869d98c7c",
   "metadata": {},
   "outputs": [
    {
     "data": {
      "text/plain": [
       "'bbaabbbaa'"
      ]
     },
     "execution_count": 12,
     "metadata": {},
     "output_type": "execute_result"
    }
   ],
   "source": [
    "# Apply S to L1.\n",
    "apply(S, L1)"
   ]
  },
  {
   "cell_type": "markdown",
   "id": "310deed9-db3b-49c9-b92e-59f97b85da4f",
   "metadata": {},
   "source": [
    "For the sequence <code>2,1,2,0</code> <b>list 1</b> will yield <code>'bbaabbbaa'</code>"
   ]
  },
  {
   "cell_type": "code",
   "execution_count": 14,
   "id": "2b9f3dcc-4910-4f23-8fb0-68675580cf57",
   "metadata": {},
   "outputs": [
    {
     "data": {
      "text/plain": [
       "'bbaabbbaa'"
      ]
     },
     "execution_count": 14,
     "metadata": {},
     "output_type": "execute_result"
    }
   ],
   "source": [
    "# Apply S to L2\n",
    "apply(S, L2)"
   ]
  },
  {
   "cell_type": "markdown",
   "id": "2588b14a-de26-44bd-9103-46f7c568f0be",
   "metadata": {},
   "source": [
    "For the sequence <code>2,1,2,0</code> <b>list 2</b> will yield <code>'bbaabbbaa'</code>"
   ]
  },
  {
   "cell_type": "markdown",
   "id": "8982a698-68ba-4fc5-84bd-bdcd9a6110fe",
   "metadata": {},
   "source": [
    "Therefore based on sequence <code>2,1,2,0</code>.<br>\n",
    "List <b>L1</b> + <b>L2</b>, both yield results <code>'bbaabbbaa'</code>"
   ]
  },
  {
   "cell_type": "code",
   "execution_count": 17,
   "id": "e70b936c-4fbc-444a-99c6-4a0cf39d7db0",
   "metadata": {},
   "outputs": [
    {
     "data": {
      "text/plain": [
       "True"
      ]
     },
     "execution_count": 17,
     "metadata": {},
     "output_type": "execute_result"
    }
   ],
   "source": [
    "# Get Python to check if the proposed solution is a solution.\n",
    "apply(S, L1) == apply(S, L2)"
   ]
  },
  {
   "cell_type": "markdown",
   "id": "3cdc2c48-f447-4b2c-8f68-8414396c946c",
   "metadata": {},
   "source": [
    "<b>L1</b> and <b>L2</b> corresponds to each other."
   ]
  },
  {
   "cell_type": "markdown",
   "id": "1ef0bbc0-c039-454f-a1be-f943a2f4bf3d",
   "metadata": {},
   "source": [
    "### <b>What if the lists have no correspondence?</b>"
   ]
  },
  {
   "cell_type": "markdown",
   "id": "4f165f4e-df25-4e88-ba4a-beeb7190fffc",
   "metadata": {},
   "source": [
    "Heres an example with <code>L3</code> + <code>L4</code>"
   ]
  },
  {
   "cell_type": "code",
   "execution_count": 21,
   "id": "be840c18-26b0-4fce-98ed-977692d93381",
   "metadata": {},
   "outputs": [],
   "source": [
    "# The third list\n",
    "L3 = ['ab', 'bba']"
   ]
  },
  {
   "cell_type": "code",
   "execution_count": 22,
   "id": "45ae82a2-0573-4836-a524-d728119239b5",
   "metadata": {},
   "outputs": [],
   "source": [
    "# The fourth list \n",
    "L4 = ['aa', 'bb']"
   ]
  },
  {
   "cell_type": "code",
   "execution_count": null,
   "id": "1653c888-fa5b-4221-a846-8b5c85f44800",
   "metadata": {},
   "outputs": [],
   "source": [
    "s = ?"
   ]
  },
  {
   "cell_type": "markdown",
   "id": "2b5190e6-99a4-4fec-a7d4-afef667ab5cb",
   "metadata": {},
   "source": [
    "We can try unlimited combinations, but none of combination will lead us to solution, thus this problem does not have solution.<br>\n",
    "Therefore this problem is undecidable,as we cannot prove there is correspondence between them."
   ]
  },
  {
   "cell_type": "markdown",
   "id": "a70b20bb-6b33-45c7-a9fe-9853858626fc",
   "metadata": {},
   "source": [
    "$$ (L_1,L_2) \\rightarrow \\{True, False\\} \\qquad |L_1| = |L_2| $$"
   ]
  },
  {
   "cell_type": "markdown",
   "id": "5f009575-7b7d-4d2c-aa1a-caf961c62c6b",
   "metadata": {},
   "source": [
    "<b>Correspond:</b> Two lists, thats have the same length, contain strings over the same alphabet.<br>\n",
    "<b>Do NOT correspond:</b> lists that are not the same length NEVER correspond.<br>\n",
    "<br>\n",
    "Some instances can show that things do / do not correspond. (based on Strings in lists)<br>\n",
    "But in general NO algorithm to show that they do / do not correspond. <br>"
   ]
  },
  {
   "cell_type": "markdown",
   "id": "5a7b127b-3ca5-477f-b80f-7385e084c534",
   "metadata": {},
   "source": [
    "***\n",
    "Definition and explanation of the Bounded Post Correspondence Problem.\n",
    "<br>\n",
    "### Bounded Post Correspondence Problem\n",
    "***"
   ]
  },
  {
   "cell_type": "markdown",
   "id": "540937ea-9dec-4c41-a7c1-61161f7b99a3",
   "metadata": {},
   "source": [
    "One of the most important variants of <b>PCP</b> is the <code>bounded Post correspondence problem</code>, <br>\n",
    "which asks if we can find a match using no more than <b>k</b> tiles, including repeated tiles. <br>\n",
    "A brute force search solves the problem in time <b>O(2k)</b>."
   ]
  },
  {
   "cell_type": "markdown",
   "id": "0b64dc11-2e2a-43c7-ba55-cd9b206432de",
   "metadata": {},
   "source": [
    "$$ |S| \\leq K \\qquad K \\in \\mathbb{N} $$"
   ]
  },
  {
   "cell_type": "code",
   "execution_count": 51,
   "id": "f14d3ee4-4a44-4e70-aa19-67da3b557c8d",
   "metadata": {},
   "outputs": [],
   "source": [
    "# A very useful module in the Python standard library.\n",
    "import itertools as it"
   ]
  },
  {
   "cell_type": "code",
   "execution_count": 36,
   "id": "0c13e3bc-072a-4ce2-b03e-a6f048eff54f",
   "metadata": {},
   "outputs": [
    {
     "name": "stdout",
     "output_type": "stream",
     "text": [
      "(0,)\n",
      "(1,)\n",
      "(2,)\n",
      "(0, 0)\n",
      "(0, 1)\n",
      "(0, 2)\n",
      "(1, 0)\n",
      "(1, 1)\n",
      "(1, 2)\n",
      "(2, 0)\n",
      "(2, 1)\n",
      "(2, 2)\n",
      "(0, 0, 0)\n",
      "(0, 0, 1)\n",
      "(0, 0, 2)\n",
      "(0, 1, 0)\n",
      "(0, 1, 1)\n",
      "(0, 1, 2)\n",
      "(0, 2, 0)\n",
      "(0, 2, 1)\n",
      "(0, 2, 2)\n",
      "(1, 0, 0)\n",
      "(1, 0, 1)\n",
      "(1, 0, 2)\n",
      "(1, 1, 0)\n",
      "(1, 1, 1)\n",
      "(1, 1, 2)\n",
      "(1, 2, 0)\n",
      "(1, 2, 1)\n",
      "(1, 2, 2)\n",
      "(2, 0, 0)\n",
      "(2, 0, 1)\n",
      "(2, 0, 2)\n",
      "(2, 1, 0)\n",
      "(2, 1, 1)\n",
      "(2, 1, 2)\n",
      "(2, 2, 0)\n",
      "(2, 2, 1)\n",
      "(2, 2, 2)\n",
      "(0, 0, 0, 0)\n",
      "(0, 0, 0, 1)\n",
      "(0, 0, 0, 2)\n",
      "(0, 0, 1, 0)\n",
      "(0, 0, 1, 1)\n",
      "(0, 0, 1, 2)\n",
      "(0, 0, 2, 0)\n",
      "(0, 0, 2, 1)\n",
      "(0, 0, 2, 2)\n",
      "(0, 1, 0, 0)\n",
      "(0, 1, 0, 1)\n",
      "(0, 1, 0, 2)\n",
      "(0, 1, 1, 0)\n",
      "(0, 1, 1, 1)\n",
      "(0, 1, 1, 2)\n",
      "(0, 1, 2, 0)\n",
      "(0, 1, 2, 1)\n",
      "(0, 1, 2, 2)\n",
      "(0, 2, 0, 0)\n",
      "(0, 2, 0, 1)\n",
      "(0, 2, 0, 2)\n",
      "(0, 2, 1, 0)\n",
      "(0, 2, 1, 1)\n",
      "(0, 2, 1, 2)\n",
      "(0, 2, 2, 0)\n",
      "(0, 2, 2, 1)\n",
      "(0, 2, 2, 2)\n",
      "(1, 0, 0, 0)\n",
      "(1, 0, 0, 1)\n",
      "(1, 0, 0, 2)\n",
      "(1, 0, 1, 0)\n",
      "(1, 0, 1, 1)\n",
      "(1, 0, 1, 2)\n",
      "(1, 0, 2, 0)\n",
      "(1, 0, 2, 1)\n",
      "(1, 0, 2, 2)\n",
      "(1, 1, 0, 0)\n",
      "(1, 1, 0, 1)\n",
      "(1, 1, 0, 2)\n",
      "(1, 1, 1, 0)\n",
      "(1, 1, 1, 1)\n",
      "(1, 1, 1, 2)\n",
      "(1, 1, 2, 0)\n",
      "(1, 1, 2, 1)\n",
      "(1, 1, 2, 2)\n",
      "(1, 2, 0, 0)\n",
      "(1, 2, 0, 1)\n",
      "(1, 2, 0, 2)\n",
      "(1, 2, 1, 0)\n",
      "(1, 2, 1, 1)\n",
      "(1, 2, 1, 2)\n",
      "(1, 2, 2, 0)\n",
      "(1, 2, 2, 1)\n",
      "(1, 2, 2, 2)\n",
      "(2, 0, 0, 0)\n",
      "(2, 0, 0, 1)\n",
      "(2, 0, 0, 2)\n",
      "(2, 0, 1, 0)\n",
      "(2, 0, 1, 1)\n",
      "(2, 0, 1, 2)\n",
      "(2, 0, 2, 0)\n",
      "(2, 0, 2, 1)\n",
      "(2, 0, 2, 2)\n",
      "(2, 1, 0, 0)\n",
      "(2, 1, 0, 1)\n",
      "(2, 1, 0, 2)\n",
      "(2, 1, 1, 0)\n",
      "(2, 1, 1, 1)\n",
      "(2, 1, 1, 2)\n",
      "(2, 1, 2, 0)\n",
      "(2, 1, 2, 1)\n",
      "(2, 1, 2, 2)\n",
      "(2, 2, 0, 0)\n",
      "(2, 2, 0, 1)\n",
      "(2, 2, 0, 2)\n",
      "(2, 2, 1, 0)\n",
      "(2, 2, 1, 1)\n",
      "(2, 2, 1, 2)\n",
      "(2, 2, 2, 0)\n",
      "(2, 2, 2, 1)\n",
      "(2, 2, 2, 2)\n"
     ]
    }
   ],
   "source": [
    "# The bound for the bounded problem.\n",
    "K = 4\n",
    "\n",
    "# The generators.\n",
    "gens = []\n",
    "\n",
    "# Loop through all possible solutions.\n",
    "for i in range(1, K + 1):\n",
    "    # Create a generator for solutions of length i, append it to gens.\n",
    "    gens.append(it.product(*([range(len(L1))] * i)))\n",
    "\n",
    "# it.chain just chains generators together.\n",
    "for solution in it.chain(*gens):\n",
    "  print(solution)"
   ]
  },
  {
   "cell_type": "markdown",
   "id": "92c3f2d7-23de-4725-ab69-469c5478897d",
   "metadata": {},
   "source": [
    "Every Sequence (<b>S</b>) related to <code>L1</code>. With up to 4 (<b>K</b>) elements.<br>\n",
    "Although only Sequences are shown and not the bbreakdown of each solution.<br>\n",
    "Cartesian_Product of Sets can be visualized "
   ]
  },
  {
   "cell_type": "code",
   "execution_count": 128,
   "id": "4402c448-924b-428b-8e8e-8f0a149b489b",
   "metadata": {},
   "outputs": [],
   "source": [
    "# Function for finding the cartesian product from a list of length K.\n",
    "def Cartesian_Product(L, K):\n",
    "    # The generators.\n",
    "    gens=[]\n",
    "    # Loop through all possible solutions. \n",
    "    for i in range(1, K + 1):\n",
    "        # Create a generator for solutions of length i\n",
    "        for gen in it.product(L, repeat = i):\n",
    "            # Concatenate each solution\n",
    "            concat=''.join(gen)\n",
    "            # Append it to gens.\n",
    "            gens.append(concat)\n",
    "    return gens"
   ]
  },
  {
   "cell_type": "code",
   "execution_count": 129,
   "id": "77fa2fe8-6bd0-412e-9f2c-84f5e9c154dc",
   "metadata": {},
   "outputs": [
    {
     "name": "stdout",
     "output_type": "stream",
     "text": [
      "['a', 'ab', 'bba', 'aa', 'aab', 'abba', 'aba', 'abab', 'abbba', 'bbaa', 'bbaab', 'bbabba', 'aaa', 'aaab', 'aabba', 'aaba', 'aabab', 'aabbba', 'abbaa', 'abbaab', 'abbabba', 'abaa', 'abaab', 'ababba', 'ababa', 'ababab', 'ababbba', 'abbbaa', 'abbbaab', 'abbbabba', 'bbaaa', 'bbaaab', 'bbaabba', 'bbaaba', 'bbaabab', 'bbaabbba', 'bbabbaa', 'bbabbaab', 'bbabbabba', 'aaaa', 'aaaab', 'aaabba', 'aaaba', 'aaabab', 'aaabbba', 'aabbaa', 'aabbaab', 'aabbabba', 'aabaa', 'aabaab', 'aababba', 'aababa', 'aababab', 'aababbba', 'aabbbaa', 'aabbbaab', 'aabbbabba', 'abbaaa', 'abbaaab', 'abbaabba', 'abbaaba', 'abbaabab', 'abbaabbba', 'abbabbaa', 'abbabbaab', 'abbabbabba', 'abaaa', 'abaaab', 'abaabba', 'abaaba', 'abaabab', 'abaabbba', 'ababbaa', 'ababbaab', 'ababbabba', 'ababaa', 'ababaab', 'abababba', 'abababa', 'abababab', 'abababbba', 'ababbbaa', 'ababbbaab', 'ababbbabba', 'abbbaaa', 'abbbaaab', 'abbbaabba', 'abbbaaba', 'abbbaabab', 'abbbaabbba', 'abbbabbaa', 'abbbabbaab', 'abbbabbabba', 'bbaaaa', 'bbaaaab', 'bbaaabba', 'bbaaaba', 'bbaaabab', 'bbaaabbba', 'bbaabbaa', 'bbaabbaab', 'bbaabbabba', 'bbaabaa', 'bbaabaab', 'bbaababba', 'bbaababa', 'bbaababab', 'bbaababbba', 'bbaabbbaa', 'bbaabbbaab', 'bbaabbbabba', 'bbabbaaa', 'bbabbaaab', 'bbabbaabba', 'bbabbaaba', 'bbabbaabab', 'bbabbaabbba', 'bbabbabbaa', 'bbabbabbaab', 'bbabbabbabba']\n"
     ]
    }
   ],
   "source": [
    "# List every cartesian product of L1 from both lists of max length 4.\n",
    "print(Cartesian_Product(L1, 4))"
   ]
  },
  {
   "cell_type": "markdown",
   "id": "f5d99a4e-d93d-4415-a0d4-ab147b884b1a",
   "metadata": {},
   "source": [
    "***\n",
    "Python function to solve the Bounded Post Correspondence Problem.<br> \n",
    "The function should take two lists of strings and return True if they correspond, False otherwise.<br>\n",
    "\n",
    "### Solving The Bounded Post Correspondence Problem\n",
    "***"
   ]
  },
  {
   "cell_type": "code",
   "execution_count": 140,
   "id": "806da6dc-73e8-4ec3-bc87-5f27f9cac728",
   "metadata": {},
   "outputs": [],
   "source": [
    "# Correspond needs to state whether a solution S of max length K exists.\n",
    "def correspond(L1, L2, K):\n",
    "    # Check if lists are both the same length.\n",
    "    if len(L1) != len(L2):\n",
    "        return False\n",
    "    # Iterates over the cartesian product\n",
    "    for listA, listB in zip(Cartesian_Product(L1, K), Cartesian_Product(L2, K)):\n",
    "        # if cartesian_product match, return True\n",
    "        if listA == listB:\n",
    "            print(\"{} = {}\".format(listA, listB))\n",
    "            return True\n",
    "    # If not, return False\n",
    "    return False"
   ]
  },
  {
   "cell_type": "code",
   "execution_count": 141,
   "id": "970c0919-69c4-4d61-9e28-b7ece8202fcd",
   "metadata": {},
   "outputs": [],
   "source": [
    "# Write a solver for the bounded version.\n",
    "def bpcp_solver(L1, L2, K):\n",
    "    if correspond(L1, L2, K):\n",
    "        return True\n",
    "    else:\n",
    "        return False"
   ]
  },
  {
   "cell_type": "markdown",
   "id": "b5d848e5-1162-4fa9-9e88-bfea892fcf1e",
   "metadata": {},
   "source": [
    "Now to run a set of examples.<br>\n",
    "We already know based on information above:<br>\n",
    "    <code>L1 + L2</code> = <b>Do</b> correspond<br>\n",
    "    <code>L3 + L4</code> = <b>Do Not</b> correspond<br>"
   ]
  },
  {
   "cell_type": "code",
   "execution_count": 145,
   "id": "cb5c5c9c-931f-4aa2-91dd-1b361bb56248",
   "metadata": {},
   "outputs": [
    {
     "data": {
      "text/plain": [
       "['a', 'ab', 'bba']"
      ]
     },
     "execution_count": 145,
     "metadata": {},
     "output_type": "execute_result"
    }
   ],
   "source": [
    "# reminder L1\n",
    "L1"
   ]
  },
  {
   "cell_type": "code",
   "execution_count": 146,
   "id": "74f54982-a547-41b9-8916-adc226301a9b",
   "metadata": {},
   "outputs": [
    {
     "data": {
      "text/plain": [
       "['baa', 'aa', 'bb']"
      ]
     },
     "execution_count": 146,
     "metadata": {},
     "output_type": "execute_result"
    }
   ],
   "source": [
    "# reminder L2\n",
    "L2"
   ]
  },
  {
   "cell_type": "code",
   "execution_count": 150,
   "id": "32987c1d-751e-4827-b229-327a6872a2ec",
   "metadata": {},
   "outputs": [
    {
     "name": "stdout",
     "output_type": "stream",
     "text": [
      "bbaabbbaa = bbaabbbaa\n"
     ]
    },
    {
     "data": {
      "text/plain": [
       "True"
      ]
     },
     "execution_count": 150,
     "metadata": {},
     "output_type": "execute_result"
    }
   ],
   "source": [
    "# Can the Bounded Post Correspondence Problem be solved?\n",
    "# Example 1 - L1 + L2\n",
    "bpcp_solver(L1, L2, 4)"
   ]
  },
  {
   "cell_type": "markdown",
   "id": "aae11ad3-96e1-4d2d-aea2-52a9a8a480d0",
   "metadata": {},
   "source": [
    "The solver found correspondence between the two lists."
   ]
  },
  {
   "cell_type": "code",
   "execution_count": 148,
   "id": "1e7be1ee-ede3-49fd-a9eb-6928dd7803f9",
   "metadata": {},
   "outputs": [
    {
     "data": {
      "text/plain": [
       "['ab', 'bba']"
      ]
     },
     "execution_count": 148,
     "metadata": {},
     "output_type": "execute_result"
    }
   ],
   "source": [
    "# reminder l3\n",
    "L3"
   ]
  },
  {
   "cell_type": "code",
   "execution_count": 149,
   "id": "a616af59-b3a0-4090-b9e0-1bf7a99876d8",
   "metadata": {},
   "outputs": [
    {
     "data": {
      "text/plain": [
       "['aa', 'bb']"
      ]
     },
     "execution_count": 149,
     "metadata": {},
     "output_type": "execute_result"
    }
   ],
   "source": [
    "#Redminder l4\n",
    "L4"
   ]
  },
  {
   "cell_type": "code",
   "execution_count": 152,
   "id": "b9116c10-c451-44b2-b5fc-417ef7e0068c",
   "metadata": {},
   "outputs": [
    {
     "data": {
      "text/plain": [
       "False"
      ]
     },
     "execution_count": 152,
     "metadata": {},
     "output_type": "execute_result"
    }
   ],
   "source": [
    "# Can the Bounded Post Correspondence Problem be solved?\n",
    "# Example 2 - L3 + L4\n",
    "bpcp_solver(L3, L4, 4)"
   ]
  },
  {
   "cell_type": "markdown",
   "id": "0ea98716-4902-4bcb-91f9-adea4b865ef4",
   "metadata": {},
   "source": [
    "The solver did not find correspondence between the two lists"
   ]
  },
  {
   "cell_type": "markdown",
   "id": "0f34a393-3244-4e0c-8b6a-c5da6ea77ad6",
   "metadata": {},
   "source": [
    "Its a quick and simple way of checking if there is correspondence between <b>S</b> Sequences, with <b>K</b> elements.<br>\n",
    "How every changing the sequences and elements"
   ]
  },
  {
   "cell_type": "code",
   "execution_count": null,
   "id": "5953f87a-f0a6-4c60-84c6-bd0ac6486e34",
   "metadata": {},
   "outputs": [],
   "source": []
  },
  {
   "cell_type": "code",
   "execution_count": null,
   "id": "512eccf8-cad1-40ab-a062-b40e04f4ff08",
   "metadata": {},
   "outputs": [],
   "source": []
  },
  {
   "cell_type": "code",
   "execution_count": null,
   "id": "6744b8e8-8eca-4715-b6ae-e6c802b581c6",
   "metadata": {},
   "outputs": [],
   "source": []
  },
  {
   "cell_type": "code",
   "execution_count": null,
   "id": "cef9112a-43a2-4a47-9573-2811469ed5ef",
   "metadata": {},
   "outputs": [],
   "source": []
  },
  {
   "cell_type": "code",
   "execution_count": null,
   "id": "fa50c231-5934-468c-9908-3da12a00f8b8",
   "metadata": {},
   "outputs": [],
   "source": []
  },
  {
   "cell_type": "code",
   "execution_count": null,
   "id": "9991428c-8574-4009-8406-6b8c5c575958",
   "metadata": {},
   "outputs": [],
   "source": []
  },
  {
   "cell_type": "code",
   "execution_count": null,
   "id": "e8b4b273-6448-4184-b42f-4dab9664ed2b",
   "metadata": {},
   "outputs": [],
   "source": []
  },
  {
   "cell_type": "code",
   "execution_count": null,
   "id": "d8efed32-1b88-4a92-b993-9ae7a4a21941",
   "metadata": {},
   "outputs": [],
   "source": []
  },
  {
   "cell_type": "code",
   "execution_count": null,
   "id": "228d7b52-8f48-41bc-8bb8-a49eec1aef97",
   "metadata": {},
   "outputs": [],
   "source": []
  },
  {
   "cell_type": "code",
   "execution_count": null,
   "id": "d5a96de4-7e7e-4cec-8685-33d8a4ebb53b",
   "metadata": {},
   "outputs": [],
   "source": []
  },
  {
   "cell_type": "code",
   "execution_count": null,
   "id": "3b92b7d1-1674-46c3-8fe0-f5d74cb40f17",
   "metadata": {},
   "outputs": [],
   "source": []
  },
  {
   "cell_type": "code",
   "execution_count": null,
   "id": "6d68fdf7-686c-4fd7-9874-a850def398fe",
   "metadata": {},
   "outputs": [],
   "source": []
  },
  {
   "cell_type": "code",
   "execution_count": null,
   "id": "47d6b8c5-77f4-4f6f-965f-3e30ad65fe99",
   "metadata": {},
   "outputs": [],
   "source": []
  },
  {
   "cell_type": "code",
   "execution_count": null,
   "id": "61ffc927-c634-40dc-8818-7db00f01d98c",
   "metadata": {},
   "outputs": [],
   "source": []
  },
  {
   "cell_type": "code",
   "execution_count": null,
   "id": "632ea20c-e91d-4588-b7c2-464a51d76ee4",
   "metadata": {},
   "outputs": [],
   "source": []
  },
  {
   "cell_type": "code",
   "execution_count": null,
   "id": "e0f4adbc-a448-4b7e-83e0-fad8c76567f3",
   "metadata": {},
   "outputs": [],
   "source": []
  },
  {
   "cell_type": "code",
   "execution_count": null,
   "id": "91ee01da-65c7-449e-a4e2-8b577bea37fb",
   "metadata": {},
   "outputs": [],
   "source": []
  },
  {
   "cell_type": "code",
   "execution_count": null,
   "id": "74c7ac21-0b95-48d8-9b85-50496fab5a98",
   "metadata": {},
   "outputs": [],
   "source": []
  },
  {
   "cell_type": "code",
   "execution_count": null,
   "id": "b08be9b1-aa15-4e7f-bbb1-a58de933ee5e",
   "metadata": {},
   "outputs": [],
   "source": []
  },
  {
   "cell_type": "code",
   "execution_count": null,
   "id": "6bdaf36e-843f-4770-b385-26200cc74270",
   "metadata": {},
   "outputs": [],
   "source": []
  },
  {
   "cell_type": "code",
   "execution_count": null,
   "id": "8d420c88-87c2-4192-99cc-b59c09cbfb01",
   "metadata": {},
   "outputs": [],
   "source": []
  },
  {
   "cell_type": "code",
   "execution_count": null,
   "id": "4d4b6c10-82b0-4032-a548-42e02ab0c5e2",
   "metadata": {},
   "outputs": [],
   "source": []
  },
  {
   "cell_type": "code",
   "execution_count": null,
   "id": "f145d7f6-4e3e-4fec-a35c-128ce9da3509",
   "metadata": {},
   "outputs": [],
   "source": []
  },
  {
   "cell_type": "markdown",
   "id": "2296f5e7-8682-4677-89d8-b9525ee92544",
   "metadata": {},
   "source": [
    "***\n",
    "Explanation of what an undecidable problem is in computability theory, with reference to the Post Correspondence Problem.<br>\n",
    "\n",
    "### What is an undecidable problem is in computability theory?\n",
    "***"
   ]
  },
  {
   "cell_type": "code",
   "execution_count": null,
   "id": "b924a08c-7d25-4738-9964-eea07483ed8b",
   "metadata": {},
   "outputs": [],
   "source": []
  },
  {
   "cell_type": "code",
   "execution_count": null,
   "id": "960b8ce3-b574-4384-b1f3-8c8943f80d1e",
   "metadata": {},
   "outputs": [],
   "source": []
  },
  {
   "cell_type": "code",
   "execution_count": null,
   "id": "b6652bae-dc3a-4d3f-bd2b-225247f4200f",
   "metadata": {},
   "outputs": [],
   "source": []
  },
  {
   "cell_type": "code",
   "execution_count": null,
   "id": "ba70ec1c-37ee-430d-ace5-151d95b104a2",
   "metadata": {},
   "outputs": [],
   "source": []
  },
  {
   "cell_type": "code",
   "execution_count": null,
   "id": "fb3ba765-4124-4731-b9b7-ea46675c702d",
   "metadata": {},
   "outputs": [],
   "source": []
  },
  {
   "cell_type": "code",
   "execution_count": null,
   "id": "d609360f-0dc5-4f0a-90c8-f8dd29154485",
   "metadata": {},
   "outputs": [],
   "source": []
  },
  {
   "cell_type": "code",
   "execution_count": null,
   "id": "d1509b83-11a6-4d3c-84d7-46c8787dabb6",
   "metadata": {},
   "outputs": [],
   "source": []
  },
  {
   "cell_type": "code",
   "execution_count": null,
   "id": "0a59d0df-766f-4893-a9be-67a9dfef36a0",
   "metadata": {},
   "outputs": [],
   "source": []
  },
  {
   "cell_type": "code",
   "execution_count": null,
   "id": "909bd7b3-6551-4e38-9cdb-e5a1a04a6e70",
   "metadata": {},
   "outputs": [],
   "source": []
  },
  {
   "cell_type": "code",
   "execution_count": null,
   "id": "1671723b-90a6-43cf-84b9-9b8664850200",
   "metadata": {},
   "outputs": [],
   "source": []
  },
  {
   "cell_type": "code",
   "execution_count": null,
   "id": "e1608e87-f2e4-4c8d-999c-486d8ed6d90b",
   "metadata": {},
   "outputs": [],
   "source": []
  },
  {
   "cell_type": "code",
   "execution_count": null,
   "id": "a8851f3f-3e80-43f9-9c9e-09afaef88e63",
   "metadata": {},
   "outputs": [],
   "source": []
  },
  {
   "cell_type": "code",
   "execution_count": null,
   "id": "1faeb24f-39bb-4bd9-bcfd-e45b76d3e672",
   "metadata": {},
   "outputs": [],
   "source": []
  },
  {
   "cell_type": "code",
   "execution_count": null,
   "id": "13ab1329-f6ad-41d2-a9bf-36943a2d9140",
   "metadata": {},
   "outputs": [],
   "source": []
  },
  {
   "cell_type": "code",
   "execution_count": null,
   "id": "6aa4f9b2-d641-4246-b20e-c61926caa458",
   "metadata": {},
   "outputs": [],
   "source": []
  },
  {
   "cell_type": "markdown",
   "id": "5eca445a-aa1d-4446-a173-e53448dcc8d1",
   "metadata": {},
   "source": [
    "***\n",
    "### References\n",
    "\n",
    "***"
   ]
  },
  {
   "cell_type": "markdown",
   "id": "4bbdbff0-38df-4734-9539-0dfc1b0f3a5c",
   "metadata": {},
   "source": [
    "Post Correspondence Problem"
   ]
  },
  {
   "cell_type": "markdown",
   "id": "d9a0d9a3-5717-46dd-88de-fd4ffecbbfb4",
   "metadata": {},
   "source": [
    "https://www.geeksforgeeks.org/post-correspondence-problem/#:~:text=Post%20Correspondence%20Problem%20is%20a,as%20string%20made%20by%20Denominators.<br>\n",
    "https://www.tutorialspoint.com/automata_theory/post_correspondence_problem.htm<br>\n",
    "https://en.wikipedia.org/wiki/Post_correspondence_problem"
   ]
  },
  {
   "cell_type": "code",
   "execution_count": null,
   "id": "91688b7e-a328-4a0a-81b2-e69d0db8bacc",
   "metadata": {},
   "outputs": [],
   "source": []
  },
  {
   "cell_type": "code",
   "execution_count": null,
   "id": "0ad41b27-f4c5-4f93-a180-1b7b56bc443e",
   "metadata": {},
   "outputs": [],
   "source": []
  },
  {
   "cell_type": "code",
   "execution_count": null,
   "id": "112a12e9-6d35-4830-810a-86adff271ad2",
   "metadata": {},
   "outputs": [],
   "source": []
  },
  {
   "cell_type": "code",
   "execution_count": null,
   "id": "466f637f-f785-4b30-bcdc-5f6fc64b457b",
   "metadata": {},
   "outputs": [],
   "source": []
  },
  {
   "cell_type": "code",
   "execution_count": null,
   "id": "231b6ebf-b981-4e6f-b481-4e1900063d08",
   "metadata": {},
   "outputs": [],
   "source": []
  },
  {
   "cell_type": "code",
   "execution_count": null,
   "id": "70dd38d1-36f0-41d1-8b15-06cfa4430f31",
   "metadata": {},
   "outputs": [],
   "source": []
  },
  {
   "cell_type": "code",
   "execution_count": null,
   "id": "cc4c647c-a8ad-40da-adcb-995d74bd3794",
   "metadata": {},
   "outputs": [],
   "source": []
  },
  {
   "cell_type": "code",
   "execution_count": null,
   "id": "8708f455-ddac-400a-bf56-e6d1c7f83ec7",
   "metadata": {},
   "outputs": [],
   "source": []
  },
  {
   "cell_type": "code",
   "execution_count": null,
   "id": "f490e693-73a3-4610-b9d7-3d527fcc38ba",
   "metadata": {},
   "outputs": [],
   "source": []
  },
  {
   "cell_type": "markdown",
   "id": "092d0698-cff9-42bc-a3a2-04b1939c8e23",
   "metadata": {},
   "source": [
    "***\n",
    "# The End\n",
    "***"
   ]
  }
 ],
 "metadata": {
  "kernelspec": {
   "display_name": "Python 3",
   "language": "python",
   "name": "python3"
  },
  "language_info": {
   "codemirror_mode": {
    "name": "ipython",
    "version": 3
   },
   "file_extension": ".py",
   "mimetype": "text/x-python",
   "name": "python",
   "nbconvert_exporter": "python",
   "pygments_lexer": "ipython3",
   "version": "3.8.8"
  }
 },
 "nbformat": 4,
 "nbformat_minor": 5
}
