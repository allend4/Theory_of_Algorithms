{
 "cells": [
  {
   "cell_type": "markdown",
   "id": "d22ad064-3742-4f0f-bcd7-78335460f990",
   "metadata": {},
   "source": [
    "### countdown"
   ]
  },
  {
   "cell_type": "markdown",
   "id": "72dbfa8d-08e0-4a81-89f0-cb194de45e4e",
   "metadata": {},
   "source": [
    "• Overview and explanation of the Countdown Numbers Game [3]."
   ]
  },
  {
   "cell_type": "markdown",
   "id": "daefbc2a-3aac-41e3-ad5d-4b56822b351e",
   "metadata": {},
   "source": [
    "• Discussion of the complexity of the Countdown Numbers Game [3]."
   ]
  },
  {
   "cell_type": "markdown",
   "id": "d4ad4f30-32ed-4c06-89ab-028f98e0adb1",
   "metadata": {},
   "source": [
    "• Python function, written in a functional programming style [4] to solve a Countdown Numbers Game. The function should take a list of six numbers and a target\n",
    "number and return a method to calculate the target from the numbers, if it exists."
   ]
  },
  {
   "cell_type": "markdown",
   "id": "7161c04c-7cb1-4dec-8bd5-b38a7f4195f1",
   "metadata": {},
   "source": [
    "• Explanation of the functional [4] aspects of your code."
   ]
  },
  {
   "cell_type": "code",
   "execution_count": null,
   "id": "8622cb48-6ddf-469a-a313-9fc2de37ed35",
   "metadata": {},
   "outputs": [],
   "source": []
  }
 ],
 "metadata": {
  "kernelspec": {
   "display_name": "Python 3",
   "language": "python",
   "name": "python3"
  },
  "language_info": {
   "codemirror_mode": {
    "name": "ipython",
    "version": 3
   },
   "file_extension": ".py",
   "mimetype": "text/x-python",
   "name": "python",
   "nbconvert_exporter": "python",
   "pygments_lexer": "ipython3",
   "version": "3.8.8"
  }
 },
 "nbformat": 4,
 "nbformat_minor": 5
}
