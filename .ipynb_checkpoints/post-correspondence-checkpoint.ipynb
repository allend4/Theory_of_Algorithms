{
 "cells": [
  {
   "cell_type": "markdown",
   "id": "ffdee96e-5288-44b7-aebc-82ee40547623",
   "metadata": {},
   "source": [
    "### post-correspondence"
   ]
  },
  {
   "cell_type": "markdown",
   "id": "5d9704dc-889a-43cb-b68b-48dd9dd0a6ac",
   "metadata": {},
   "source": [
    "Definition and explanation of the Post Correspondence Problem"
   ]
  },
  {
   "cell_type": "markdown",
   "id": "5a7b127b-3ca5-477f-b80f-7385e084c534",
   "metadata": {},
   "source": [
    " Definition and explanation of the Bounded Post Correspondence Problem."
   ]
  },
  {
   "cell_type": "markdown",
   "id": "f5d99a4e-d93d-4415-a0d4-ab147b884b1a",
   "metadata": {},
   "source": [
    "Python function to solve the Bounded Post Correspondence Problem. The function\n",
    "should take two lists of strings and return True if they correspond, False otherwise."
   ]
  },
  {
   "cell_type": "markdown",
   "id": "2296f5e7-8682-4677-89d8-b9525ee92544",
   "metadata": {},
   "source": [
    "Explanation of what an undecidable problem is in computability theory, with reference to the Post Correspondence Problem."
   ]
  }
 ],
 "metadata": {
  "kernelspec": {
   "display_name": "Python 3",
   "language": "python",
   "name": "python3"
  },
  "language_info": {
   "codemirror_mode": {
    "name": "ipython",
    "version": 3
   },
   "file_extension": ".py",
   "mimetype": "text/x-python",
   "name": "python",
   "nbconvert_exporter": "python",
   "pygments_lexer": "ipython3",
   "version": "3.8.8"
  }
 },
 "nbformat": 4,
 "nbformat_minor": 5
}
