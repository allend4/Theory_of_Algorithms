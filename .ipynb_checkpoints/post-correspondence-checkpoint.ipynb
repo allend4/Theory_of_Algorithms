{
 "cells": [
  {
   "cell_type": "markdown",
   "id": "5d9704dc-889a-43cb-b68b-48dd9dd0a6ac",
   "metadata": {},
   "source": [
    "***\n",
    "Definition and explanation of the Post Correspondence Problem"
   ]
  },
  {
   "cell_type": "markdown",
   "id": "ffdee96e-5288-44b7-aebc-82ee40547623",
   "metadata": {},
   "source": [
    "# Post Correspondence Problem\n",
    "\n",
    "***"
   ]
  },
  {
   "cell_type": "markdown",
   "id": "646d3ff4-1563-461f-aa09-c7ea53bcffc4",
   "metadata": {},
   "source": [
    "### <b>What is it? <b>"
   ]
  },
  {
   "cell_type": "markdown",
   "id": "1e5f42bc-1aed-45b3-a760-315b40fbe8fc",
   "metadata": {},
   "source": [
    "Post Correspondence Problem (<b>PCP</b>) is a popular undecidable problem that was introduced by Emil Leon Post in 1946.<br>\n",
    "It is an undecidable decision problem, for which it is proved to be impossible to construct an algorithm that always leads to a correct yes-or-no answer."
   ]
  },
  {
   "cell_type": "markdown",
   "id": "ad3111d6-4a9c-4b72-85cc-58f5c9b39684",
   "metadata": {},
   "source": [
    "### <b>The Problem...</b>"
   ]
  },
  {
   "cell_type": "markdown",
   "id": "ef580fac-421d-4102-ac0e-de961b069144",
   "metadata": {},
   "source": [
    "As an example we have two lists, both containing N words.<br>\n",
    "The aim is to find out concatenation of these words in some sequence, so that both lists yield the same result."
   ]
  },
  {
   "cell_type": "code",
   "execution_count": 8,
   "id": "0b213647-9acf-499a-b819-be90e2bc7234",
   "metadata": {},
   "outputs": [],
   "source": [
    "# First list.\n",
    "L1 = ['a', 'ab', 'bba']"
   ]
  },
  {
   "cell_type": "code",
   "execution_count": 9,
   "id": "38397b9d-71a1-4fd9-9d4d-e66d32eebb7d",
   "metadata": {},
   "outputs": [],
   "source": [
    "# Second List.\n",
    "L2 = ['baa', 'aa', 'bb']"
   ]
  },
  {
   "cell_type": "markdown",
   "id": "b746bda7-02e3-47bb-af84-58fca897d90a",
   "metadata": {},
   "source": [
    "Both lists <b>L1</b> and <b>L2</b> have different stored values.<br>\n",
    "However by using a sequence <b>S</b>, which is a list of integers we can see both lists do correspond to each other."
   ]
  },
  {
   "cell_type": "code",
   "execution_count": 10,
   "id": "58bdb705-8c0d-4c99-96e3-45362704979c",
   "metadata": {},
   "outputs": [],
   "source": [
    "# A proposed solution.\n",
    "S = (2, 1, 2, 0)"
   ]
  },
  {
   "cell_type": "code",
   "execution_count": 11,
   "id": "66830116-378e-4aad-9104-0265185b2614",
   "metadata": {},
   "outputs": [],
   "source": [
    "# Apply the proposed solution to a tuple.\n",
    "def apply(S, L):\n",
    "    S_on_L = [''.join(L[i]) for i in S]\n",
    "    return ''.join(S_on_L)"
   ]
  },
  {
   "cell_type": "code",
   "execution_count": 12,
   "id": "607d9e53-31be-40e6-83a4-5a9869d98c7c",
   "metadata": {},
   "outputs": [
    {
     "data": {
      "text/plain": [
       "'bbaabbbaa'"
      ]
     },
     "execution_count": 12,
     "metadata": {},
     "output_type": "execute_result"
    }
   ],
   "source": [
    "# Apply S to L1.\n",
    "apply(S, L1)"
   ]
  },
  {
   "cell_type": "markdown",
   "id": "310deed9-db3b-49c9-b92e-59f97b85da4f",
   "metadata": {},
   "source": [
    "For the sequence <code>2,1,2,0</code> <b>list 1</b> will yield <code>'bbaabbbaa'</code>"
   ]
  },
  {
   "cell_type": "code",
   "execution_count": 14,
   "id": "2b9f3dcc-4910-4f23-8fb0-68675580cf57",
   "metadata": {},
   "outputs": [
    {
     "data": {
      "text/plain": [
       "'bbaabbbaa'"
      ]
     },
     "execution_count": 14,
     "metadata": {},
     "output_type": "execute_result"
    }
   ],
   "source": [
    "# Apply S to L2\n",
    "apply(S, L2)"
   ]
  },
  {
   "cell_type": "markdown",
   "id": "2588b14a-de26-44bd-9103-46f7c568f0be",
   "metadata": {},
   "source": [
    "For the sequence <code>2,1,2,0</code> <b>list 2</b> will yield <code>'bbaabbbaa'</code>"
   ]
  },
  {
   "cell_type": "markdown",
   "id": "8982a698-68ba-4fc5-84bd-bdcd9a6110fe",
   "metadata": {},
   "source": [
    "Therefore based on sequence <code>2,1,2,0</code>.<br>\n",
    "List <b>L1</b> + <b>L2</b>, both yield results <code>'bbaabbbaa'</code>"
   ]
  },
  {
   "cell_type": "code",
   "execution_count": 17,
   "id": "e70b936c-4fbc-444a-99c6-4a0cf39d7db0",
   "metadata": {},
   "outputs": [
    {
     "data": {
      "text/plain": [
       "True"
      ]
     },
     "execution_count": 17,
     "metadata": {},
     "output_type": "execute_result"
    }
   ],
   "source": [
    "# Get Python to check if the proposed solution is a solution.\n",
    "apply(S, L1) == apply(S, L2)"
   ]
  },
  {
   "cell_type": "markdown",
   "id": "3cdc2c48-f447-4b2c-8f68-8414396c946c",
   "metadata": {},
   "source": [
    "<b>L1</b> and <b>L2</b> corresponds to each other."
   ]
  },
  {
   "cell_type": "markdown",
   "id": "1ef0bbc0-c039-454f-a1be-f943a2f4bf3d",
   "metadata": {},
   "source": [
    "### <b>What if the lists have no correspondence?</b>"
   ]
  },
  {
   "cell_type": "markdown",
   "id": "4f165f4e-df25-4e88-ba4a-beeb7190fffc",
   "metadata": {},
   "source": [
    "Heres an example with <code>L3</code> + <code>L4</code>"
   ]
  },
  {
   "cell_type": "code",
   "execution_count": 21,
   "id": "be840c18-26b0-4fce-98ed-977692d93381",
   "metadata": {},
   "outputs": [],
   "source": [
    "# The third list\n",
    "L3 = ['ab', 'bba']"
   ]
  },
  {
   "cell_type": "code",
   "execution_count": 22,
   "id": "45ae82a2-0573-4836-a524-d728119239b5",
   "metadata": {},
   "outputs": [],
   "source": [
    "# The fourth list \n",
    "L4 = ['aa', 'bb']"
   ]
  },
  {
   "cell_type": "code",
   "execution_count": null,
   "id": "1653c888-fa5b-4221-a846-8b5c85f44800",
   "metadata": {},
   "outputs": [],
   "source": [
    "s = ?"
   ]
  },
  {
   "cell_type": "markdown",
   "id": "2b5190e6-99a4-4fec-a7d4-afef667ab5cb",
   "metadata": {},
   "source": [
    "We can try unlimited combinations, but none of combination will lead us to solution, thus this problem does not have solution.<br>\n",
    "Therefore this problem is undecidable,as we cannot prove there is correspondence between them."
   ]
  },
  {
   "cell_type": "markdown",
   "id": "a70b20bb-6b33-45c7-a9fe-9853858626fc",
   "metadata": {},
   "source": [
    "$$ (L_1,L_2) \\rightarrow \\{True, False\\} \\qquad |L_1| = |L_2| $$"
   ]
  },
  {
   "cell_type": "markdown",
   "id": "5f009575-7b7d-4d2c-aa1a-caf961c62c6b",
   "metadata": {},
   "source": [
    "<b>Correspond:</b> Two lists, thats have the same length, contain strings over the same alphabet.<br>\n",
    "<b>Do NOT correspond:</b> lists that are not the same length NEVER correspond.<br>\n",
    "<br>\n",
    "Some instances can show that things do / do not correspond. (based on Strings in lists)<br>\n",
    "But in general NO algorithm to show that they do / do not correspond. <br>"
   ]
  },
  {
   "cell_type": "markdown",
   "id": "5a7b127b-3ca5-477f-b80f-7385e084c534",
   "metadata": {},
   "source": [
    "***\n",
    "Definition and explanation of the Bounded Post Correspondence Problem.\n",
    "<br>\n",
    "### Bounded Post Correspondence Problem\n",
    "***"
   ]
  },
  {
   "cell_type": "markdown",
   "id": "540937ea-9dec-4c41-a7c1-61161f7b99a3",
   "metadata": {},
   "source": [
    "One of the most important variants of <b>PCP</b> is the <code>bounded Post correspondence problem</code>, <br>\n",
    "which asks if we can find a match using no more than <b>k</b> tiles, including repeated tiles. <br>\n",
    "A brute force search solves the problem in time <b>O(2k)</b>."
   ]
  },
  {
   "cell_type": "markdown",
   "id": "0b64dc11-2e2a-43c7-ba55-cd9b206432de",
   "metadata": {},
   "source": [
    "$$ |S| \\leq K \\qquad K \\in \\mathbb{N} $$"
   ]
  },
  {
   "cell_type": "code",
   "execution_count": null,
   "id": "f14d3ee4-4a44-4e70-aa19-67da3b557c8d",
   "metadata": {},
   "outputs": [],
   "source": []
  },
  {
   "cell_type": "code",
   "execution_count": 31,
   "id": "0c13e3bc-072a-4ce2-b03e-a6f048eff54f",
   "metadata": {},
   "outputs": [],
   "source": []
  },
  {
   "cell_type": "code",
   "execution_count": 32,
   "id": "6c6d6f9a-96d3-4083-bdab-baa0be7b8a04",
   "metadata": {},
   "outputs": [],
   "source": []
  },
  {
   "cell_type": "code",
   "execution_count": 33,
   "id": "4402c448-924b-428b-8e8e-8f0a149b489b",
   "metadata": {},
   "outputs": [],
   "source": []
  },
  {
   "cell_type": "code",
   "execution_count": null,
   "id": "970c0919-69c4-4d61-9e28-b7ece8202fcd",
   "metadata": {},
   "outputs": [],
   "source": []
  },
  {
   "cell_type": "code",
   "execution_count": null,
   "id": "77fa2fe8-6bd0-412e-9f2c-84f5e9c154dc",
   "metadata": {},
   "outputs": [],
   "source": []
  },
  {
   "cell_type": "code",
   "execution_count": null,
   "id": "cb5c5c9c-931f-4aa2-91dd-1b361bb56248",
   "metadata": {},
   "outputs": [],
   "source": []
  },
  {
   "cell_type": "code",
   "execution_count": null,
   "id": "806da6dc-73e8-4ec3-bc87-5f27f9cac728",
   "metadata": {},
   "outputs": [],
   "source": []
  },
  {
   "cell_type": "code",
   "execution_count": null,
   "id": "d7bc76fc-28ed-414b-a503-d9fce418b09e",
   "metadata": {},
   "outputs": [],
   "source": []
  },
  {
   "cell_type": "code",
   "execution_count": null,
   "id": "74f54982-a547-41b9-8916-adc226301a9b",
   "metadata": {},
   "outputs": [],
   "source": []
  },
  {
   "cell_type": "code",
   "execution_count": null,
   "id": "dfbd97ee-f41d-41d0-ac5d-455121bb9c20",
   "metadata": {},
   "outputs": [],
   "source": []
  },
  {
   "cell_type": "code",
   "execution_count": null,
   "id": "9c8c01b6-05f8-4516-a67d-fee57a58012c",
   "metadata": {},
   "outputs": [],
   "source": []
  },
  {
   "cell_type": "code",
   "execution_count": null,
   "id": "1e7be1ee-ede3-49fd-a9eb-6928dd7803f9",
   "metadata": {},
   "outputs": [],
   "source": []
  },
  {
   "cell_type": "code",
   "execution_count": null,
   "id": "a616af59-b3a0-4090-b9e0-1bf7a99876d8",
   "metadata": {},
   "outputs": [],
   "source": []
  },
  {
   "cell_type": "code",
   "execution_count": null,
   "id": "b9116c10-c451-44b2-b5fc-417ef7e0068c",
   "metadata": {},
   "outputs": [],
   "source": []
  },
  {
   "cell_type": "code",
   "execution_count": null,
   "id": "5849c138-afa0-4496-a460-dad0c1e2bfec",
   "metadata": {},
   "outputs": [],
   "source": []
  },
  {
   "cell_type": "code",
   "execution_count": null,
   "id": "3a3e3d06-e6a8-435d-8f9c-a9bf115e3d67",
   "metadata": {},
   "outputs": [],
   "source": []
  },
  {
   "cell_type": "markdown",
   "id": "f5d99a4e-d93d-4415-a0d4-ab147b884b1a",
   "metadata": {},
   "source": [
    "***\n",
    "Python function to solve the Bounded Post Correspondence Problem.<br> \n",
    "The function should take two lists of strings and return True if they correspond, False otherwise.<br>\n",
    "\n",
    "### Solving The Bounded Post Correspondence Problem\n",
    "***"
   ]
  },
  {
   "cell_type": "code",
   "execution_count": null,
   "id": "5953f87a-f0a6-4c60-84c6-bd0ac6486e34",
   "metadata": {},
   "outputs": [],
   "source": []
  },
  {
   "cell_type": "code",
   "execution_count": null,
   "id": "512eccf8-cad1-40ab-a062-b40e04f4ff08",
   "metadata": {},
   "outputs": [],
   "source": []
  },
  {
   "cell_type": "code",
   "execution_count": null,
   "id": "6744b8e8-8eca-4715-b6ae-e6c802b581c6",
   "metadata": {},
   "outputs": [],
   "source": []
  },
  {
   "cell_type": "code",
   "execution_count": null,
   "id": "cef9112a-43a2-4a47-9573-2811469ed5ef",
   "metadata": {},
   "outputs": [],
   "source": []
  },
  {
   "cell_type": "code",
   "execution_count": null,
   "id": "fa50c231-5934-468c-9908-3da12a00f8b8",
   "metadata": {},
   "outputs": [],
   "source": []
  },
  {
   "cell_type": "code",
   "execution_count": null,
   "id": "9991428c-8574-4009-8406-6b8c5c575958",
   "metadata": {},
   "outputs": [],
   "source": []
  },
  {
   "cell_type": "code",
   "execution_count": null,
   "id": "e8b4b273-6448-4184-b42f-4dab9664ed2b",
   "metadata": {},
   "outputs": [],
   "source": []
  },
  {
   "cell_type": "code",
   "execution_count": null,
   "id": "d8efed32-1b88-4a92-b993-9ae7a4a21941",
   "metadata": {},
   "outputs": [],
   "source": []
  },
  {
   "cell_type": "code",
   "execution_count": null,
   "id": "228d7b52-8f48-41bc-8bb8-a49eec1aef97",
   "metadata": {},
   "outputs": [],
   "source": []
  },
  {
   "cell_type": "code",
   "execution_count": null,
   "id": "d5a96de4-7e7e-4cec-8685-33d8a4ebb53b",
   "metadata": {},
   "outputs": [],
   "source": []
  },
  {
   "cell_type": "code",
   "execution_count": null,
   "id": "3b92b7d1-1674-46c3-8fe0-f5d74cb40f17",
   "metadata": {},
   "outputs": [],
   "source": []
  },
  {
   "cell_type": "code",
   "execution_count": null,
   "id": "6d68fdf7-686c-4fd7-9874-a850def398fe",
   "metadata": {},
   "outputs": [],
   "source": []
  },
  {
   "cell_type": "code",
   "execution_count": null,
   "id": "47d6b8c5-77f4-4f6f-965f-3e30ad65fe99",
   "metadata": {},
   "outputs": [],
   "source": []
  },
  {
   "cell_type": "code",
   "execution_count": null,
   "id": "61ffc927-c634-40dc-8818-7db00f01d98c",
   "metadata": {},
   "outputs": [],
   "source": []
  },
  {
   "cell_type": "code",
   "execution_count": null,
   "id": "632ea20c-e91d-4588-b7c2-464a51d76ee4",
   "metadata": {},
   "outputs": [],
   "source": []
  },
  {
   "cell_type": "code",
   "execution_count": null,
   "id": "e0f4adbc-a448-4b7e-83e0-fad8c76567f3",
   "metadata": {},
   "outputs": [],
   "source": []
  },
  {
   "cell_type": "code",
   "execution_count": null,
   "id": "91ee01da-65c7-449e-a4e2-8b577bea37fb",
   "metadata": {},
   "outputs": [],
   "source": []
  },
  {
   "cell_type": "code",
   "execution_count": null,
   "id": "74c7ac21-0b95-48d8-9b85-50496fab5a98",
   "metadata": {},
   "outputs": [],
   "source": []
  },
  {
   "cell_type": "code",
   "execution_count": null,
   "id": "b08be9b1-aa15-4e7f-bbb1-a58de933ee5e",
   "metadata": {},
   "outputs": [],
   "source": []
  },
  {
   "cell_type": "code",
   "execution_count": null,
   "id": "6bdaf36e-843f-4770-b385-26200cc74270",
   "metadata": {},
   "outputs": [],
   "source": []
  },
  {
   "cell_type": "code",
   "execution_count": null,
   "id": "8d420c88-87c2-4192-99cc-b59c09cbfb01",
   "metadata": {},
   "outputs": [],
   "source": []
  },
  {
   "cell_type": "code",
   "execution_count": null,
   "id": "4d4b6c10-82b0-4032-a548-42e02ab0c5e2",
   "metadata": {},
   "outputs": [],
   "source": []
  },
  {
   "cell_type": "code",
   "execution_count": null,
   "id": "f145d7f6-4e3e-4fec-a35c-128ce9da3509",
   "metadata": {},
   "outputs": [],
   "source": []
  },
  {
   "cell_type": "markdown",
   "id": "2296f5e7-8682-4677-89d8-b9525ee92544",
   "metadata": {},
   "source": [
    "Explanation of what an undecidable problem is in computability theory, with reference to the Post Correspondence Problem."
   ]
  },
  {
   "cell_type": "code",
   "execution_count": null,
   "id": "b924a08c-7d25-4738-9964-eea07483ed8b",
   "metadata": {},
   "outputs": [],
   "source": []
  }
 ],
 "metadata": {
  "kernelspec": {
   "display_name": "Python 3",
   "language": "python",
   "name": "python3"
  },
  "language_info": {
   "codemirror_mode": {
    "name": "ipython",
    "version": 3
   },
   "file_extension": ".py",
   "mimetype": "text/x-python",
   "name": "python",
   "nbconvert_exporter": "python",
   "pygments_lexer": "ipython3",
   "version": "3.8.8"
  }
 },
 "nbformat": 4,
 "nbformat_minor": 5
}
