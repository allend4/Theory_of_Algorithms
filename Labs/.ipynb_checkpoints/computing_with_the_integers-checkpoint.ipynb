{
 "cells": [
  {
   "cell_type": "markdown",
   "id": "c078259f-781e-4727-89be-9c4ba22a6917",
   "metadata": {},
   "source": [
    "## Computing with the Integers\n",
    "\n",
    "***"
   ]
  },
  {
   "cell_type": "code",
   "execution_count": 1,
   "id": "5acdcf4f-f8e4-496d-a65f-d2ca295705c7",
   "metadata": {},
   "outputs": [],
   "source": [
    "def double(i):\n",
    "    return 2 * i"
   ]
  },
  {
   "cell_type": "code",
   "execution_count": 2,
   "id": "b8905fed-f61c-4212-9b07-cc888d0a7709",
   "metadata": {},
   "outputs": [],
   "source": [
    "eg_list_of_inputs = [-9, -8, -7, -6, -5, -4, -3, -2, -1, 0, 1, 2, 3, 4, 5, 6, 7, 8, 9]"
   ]
  },
  {
   "cell_type": "code",
   "execution_count": 3,
   "id": "41b429a6-21bf-4bdf-aa71-a0a553ae2e27",
   "metadata": {},
   "outputs": [
    {
     "data": {
      "text/plain": [
       "[-18, -16, -14, -12, -10, -8, -6, -4, -2, 0, 2, 4, 6, 8, 10, 12, 14, 16, 18]"
      ]
     },
     "execution_count": 3,
     "metadata": {},
     "output_type": "execute_result"
    }
   ],
   "source": [
    "eg_list_of_outputs = list(map(double, eg_list_of_inputs))\n",
    "eg_list_of_outputs"
   ]
  },
  {
   "cell_type": "code",
   "execution_count": 4,
   "id": "20eeff09-1e26-48fe-99a0-1848318c8f83",
   "metadata": {},
   "outputs": [
    {
     "name": "stdout",
     "output_type": "stream",
     "text": [
      " -9 ->  -18\n",
      " -8 ->  -16\n",
      " -7 ->  -14\n",
      " -6 ->  -12\n",
      " -5 ->  -10\n",
      " -4 ->   -8\n",
      " -3 ->   -6\n",
      " -2 ->   -4\n",
      " -1 ->   -2\n",
      "  0 ->    0\n",
      "  1 ->    2\n",
      "  2 ->    4\n",
      "  3 ->    6\n",
      "  4 ->    8\n",
      "  5 ->   10\n",
      "  6 ->   12\n",
      "  7 ->   14\n",
      "  8 ->   16\n",
      "  9 ->   18\n"
     ]
    }
   ],
   "source": [
    "for i in range(-9, 10):\n",
    "    print(f'{i:3} ->  {double(i):3}')"
   ]
  },
  {
   "cell_type": "markdown",
   "id": "8425e25f-53c3-445c-8381-63ecc591ded2",
   "metadata": {},
   "source": []
  },
  {
   "cell_type": "markdown",
   "id": "814a422f-3291-43c5-9457-b154f7622422",
   "metadata": {},
   "source": [
    "$ f: \\mathbb{Z} \\rightarrow 2 \\mathbb{Z}$"
   ]
  },
  {
   "cell_type": "markdown",
   "id": "2b002655-4f73-4749-9196-d11864e79dbc",
   "metadata": {},
   "source": [
    "$ \\mathbb{Z} = \\{ \\ldots, -2, -1, 0, 1, 2, \\ldots \\}$\\n"
   ]
  },
  {
   "cell_type": "markdown",
   "id": "bf05dfe2-a46b-48a0-865d-56cdf6fcef59",
   "metadata": {},
   "source": [
    "$ 2 \\mathbb{Z} = \\{ \\ldots, -2, 0, 2, \\ldots \\}$"
   ]
  },
  {
   "cell_type": "markdown",
   "id": "99b06bad-18d7-4b4b-aa41-c3b6010de3f6",
   "metadata": {},
   "source": [
    "$ 2 \\mathbb{Z} \\subset \\mathbb{Z}$"
   ]
  },
  {
   "cell_type": "markdown",
   "id": "4871cd8f-6386-476e-9c5b-3dbb529915bc",
   "metadata": {},
   "source": [
    "$ | \\mathbb{Z} | $ is $\\aleph_0$"
   ]
  },
  {
   "cell_type": "markdown",
   "id": "12279b47-9f29-4cf6-8755-a16a25830a60",
   "metadata": {},
   "source": [
    "***\n",
    "\n",
    "## The Integers and the Reals\n",
    "\n",
    "***"
   ]
  },
  {
   "cell_type": "markdown",
   "id": "9d5fb83e-c788-471b-a90a-db242b69f866",
   "metadata": {},
   "source": [
    "$\\mathbb{N}_0 = \\{0, 1, 2, 3, \\ldots \\}$"
   ]
  },
  {
   "cell_type": "markdown",
   "id": "b0b02d19-6011-4d58-a047-9a5686d4c6ca",
   "metadata": {},
   "source": [
    "$|\\mathbb{N}_0|$ is $\\aleph_0$"
   ]
  },
  {
   "cell_type": "markdown",
   "id": "c1f4b83d-a69e-4667-ada1-ab7e4b6dc360",
   "metadata": {},
   "source": [
    "$0 \\rightarrow 0$"
   ]
  },
  {
   "cell_type": "markdown",
   "id": "afbe64c1-b8a8-493e-b79b-8ab9cd3e16f1",
   "metadata": {},
   "source": [
    "$1 \\rightarrow -1$"
   ]
  },
  {
   "cell_type": "markdown",
   "id": "cc8245c1-974d-4010-94c9-26053a90a210",
   "metadata": {},
   "source": [
    "$2 \\rightarrow 1$"
   ]
  },
  {
   "cell_type": "markdown",
   "id": "8f9232f3-7ece-4f37-8e15-9adf30ba3b2e",
   "metadata": {},
   "source": [
    "$3 \\rightarrow -2$"
   ]
  },
  {
   "cell_type": "markdown",
   "id": "1e221419-314d-4a12-b5df-cdd62e35c355",
   "metadata": {},
   "source": [
    "$4 \\rightarrow 2$"
   ]
  },
  {
   "cell_type": "markdown",
   "id": "d35c1ecc-8309-45ef-a1af-c5656b7c803e",
   "metadata": {},
   "source": [
    "$\\ldots$"
   ]
  },
  {
   "cell_type": "code",
   "execution_count": 10,
   "id": "642169d6-044a-49a2-b612-b4265d1db09b",
   "metadata": {},
   "outputs": [
    {
     "name": "stdout",
     "output_type": "stream",
     "text": [
      " 0 -> 0.31920920248327755431...\n",
      " 1 -> 0.92492423619897956577...\n",
      " 2 -> 0.70088744393260682397...\n",
      " 3 -> 0.98599047455150856667...\n",
      " 4 -> 0.97870306196550471700...\n",
      " 5 -> 0.76264009196274362701...\n",
      " 6 -> 0.67995984140712240062...\n",
      " 7 -> 0.47592631188019129951...\n",
      " 8 -> 0.16088749456657602810...\n",
      " 9 -> 0.12223277833290868699...\n",
      "and so on\n"
     ]
    }
   ],
   "source": [
    "import random\n",
    "\n",
    "for n in range(10):\n",
    "    print(f'{n:2} -> {random.random():0.20f}...')\n",
    "print('and so on')"
   ]
  },
  {
   "cell_type": "code",
   "execution_count": null,
   "id": "75066e29-b461-4952-b6ce-506af7626097",
   "metadata": {},
   "outputs": [],
   "source": [
    "0.0663927917..."
   ]
  },
  {
   "cell_type": "markdown",
   "id": "ecb106f5-97bb-4b5c-85b8-69309dcf0029",
   "metadata": {},
   "source": [
    "$\\mathbb{N}_0 = \\{0, 1, 2, 3, \\ldots \\}$"
   ]
  },
  {
   "cell_type": "markdown",
   "id": "e58685f9-327d-4ad4-9f7e-0c6060142511",
   "metadata": {},
   "source": [
    "$\\mathbf{P}(\\mathbb{N}_0) = \\{ \\{\\}, \\{0\\}, \\{1\\}, \\{2\\}, \\{3\\}, \\ldots \\{0,1\\} \\ldots \\}$"
   ]
  },
  {
   "cell_type": "markdown",
   "id": "912973d0-1945-4886-98d3-6ef7135c7396",
   "metadata": {},
   "source": [
    "$|\\mathbf{P}(\\mathbb{N}_0)|$ is $\\aleph_1$"
   ]
  },
  {
   "cell_type": "markdown",
   "id": "0536d7b2-0ee2-422d-ad5b-3c693b32de03",
   "metadata": {},
   "source": [
    "***\n",
    "\n",
    "## The End"
   ]
  }
 ],
 "metadata": {
  "kernelspec": {
   "display_name": "Python 3",
   "language": "python",
   "name": "python3"
  },
  "language_info": {
   "codemirror_mode": {
    "name": "ipython",
    "version": 3
   },
   "file_extension": ".py",
   "mimetype": "text/x-python",
   "name": "python",
   "nbconvert_exporter": "python",
   "pygments_lexer": "ipython3",
   "version": "3.8.8"
  }
 },
 "nbformat": 4,
 "nbformat_minor": 5
}
