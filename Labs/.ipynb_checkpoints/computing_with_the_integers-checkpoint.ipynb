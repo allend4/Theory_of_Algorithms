{
 "cells": [
  {
   "cell_type": "markdown",
   "id": "c078259f-781e-4727-89be-9c4ba22a6917",
   "metadata": {},
   "source": [
    "## Computing with the Integers\n",
    "\n",
    "***"
   ]
  },
  {
   "cell_type": "code",
   "execution_count": 1,
   "id": "5acdcf4f-f8e4-496d-a65f-d2ca295705c7",
   "metadata": {},
   "outputs": [],
   "source": [
    "def double(i):\n",
    "    return 2 * i"
   ]
  },
  {
   "cell_type": "code",
   "execution_count": 2,
   "id": "b8905fed-f61c-4212-9b07-cc888d0a7709",
   "metadata": {},
   "outputs": [],
   "source": [
    "eg_list_of_inputs = [-9, -8, -7, -6, -5, -4, -3, -2, -1, 0, 1, 2, 3, 4, 5, 6, 7, 8, 9]"
   ]
  },
  {
   "cell_type": "code",
   "execution_count": 3,
   "id": "41b429a6-21bf-4bdf-aa71-a0a553ae2e27",
   "metadata": {},
   "outputs": [
    {
     "data": {
      "text/plain": [
       "[-18, -16, -14, -12, -10, -8, -6, -4, -2, 0, 2, 4, 6, 8, 10, 12, 14, 16, 18]"
      ]
     },
     "execution_count": 3,
     "metadata": {},
     "output_type": "execute_result"
    }
   ],
   "source": [
    "eg_list_of_outputs = list(map(double, eg_list_of_inputs))\n",
    "eg_list_of_outputs"
   ]
  },
  {
   "cell_type": "code",
   "execution_count": 4,
   "id": "20eeff09-1e26-48fe-99a0-1848318c8f83",
   "metadata": {},
   "outputs": [
    {
     "name": "stdout",
     "output_type": "stream",
     "text": [
      " -9 ->  -18\n",
      " -8 ->  -16\n",
      " -7 ->  -14\n",
      " -6 ->  -12\n",
      " -5 ->  -10\n",
      " -4 ->   -8\n",
      " -3 ->   -6\n",
      " -2 ->   -4\n",
      " -1 ->   -2\n",
      "  0 ->    0\n",
      "  1 ->    2\n",
      "  2 ->    4\n",
      "  3 ->    6\n",
      "  4 ->    8\n",
      "  5 ->   10\n",
      "  6 ->   12\n",
      "  7 ->   14\n",
      "  8 ->   16\n",
      "  9 ->   18\n"
     ]
    }
   ],
   "source": [
    "for i in range(-9, 10):\n",
    "    print(f'{i:3} ->  {double(i):3}')"
   ]
  },
  {
   "cell_type": "markdown",
   "id": "8425e25f-53c3-445c-8381-63ecc591ded2",
   "metadata": {},
   "source": []
  },
  {
   "cell_type": "markdown",
   "id": "814a422f-3291-43c5-9457-b154f7622422",
   "metadata": {},
   "source": [
    "$ f: \\mathbb{Z} \\rightarrow 2 \\mathbb{Z}$"
   ]
  },
  {
   "cell_type": "markdown",
   "id": "2b002655-4f73-4749-9196-d11864e79dbc",
   "metadata": {},
   "source": [
    "$ \\mathbb{Z} = \\{ \\ldots, -2, -1, 0, 1, 2, \\ldots \\}$\\n"
   ]
  },
  {
   "cell_type": "markdown",
   "id": "bf05dfe2-a46b-48a0-865d-56cdf6fcef59",
   "metadata": {},
   "source": [
    "$ 2 \\mathbb{Z} = \\{ \\ldots, -2, 0, 2, \\ldots \\}$"
   ]
  },
  {
   "cell_type": "markdown",
   "id": "99b06bad-18d7-4b4b-aa41-c3b6010de3f6",
   "metadata": {},
   "source": [
    "$ 2 \\mathbb{Z} \\subset \\mathbb{Z}$"
   ]
  },
  {
   "cell_type": "markdown",
   "id": "4871cd8f-6386-476e-9c5b-3dbb529915bc",
   "metadata": {},
   "source": [
    "$ | \\mathbb{Z} | $ is $\\aleph_0$"
   ]
  },
  {
   "cell_type": "markdown",
   "id": "0536d7b2-0ee2-422d-ad5b-3c693b32de03",
   "metadata": {},
   "source": [
    "***\n",
    "\n",
    "## The End"
   ]
  },
  {
   "cell_type": "code",
   "execution_count": null,
   "id": "9989ffa0-e161-4f7e-a5b0-f72e1d3a1ed7",
   "metadata": {},
   "outputs": [],
   "source": []
  }
 ],
 "metadata": {
  "kernelspec": {
   "display_name": "Python 3",
   "language": "python",
   "name": "python3"
  },
  "language_info": {
   "codemirror_mode": {
    "name": "ipython",
    "version": 3
   },
   "file_extension": ".py",
   "mimetype": "text/x-python",
   "name": "python",
   "nbconvert_exporter": "python",
   "pygments_lexer": "ipython3",
   "version": "3.8.8"
  }
 },
 "nbformat": 4,
 "nbformat_minor": 5
}
