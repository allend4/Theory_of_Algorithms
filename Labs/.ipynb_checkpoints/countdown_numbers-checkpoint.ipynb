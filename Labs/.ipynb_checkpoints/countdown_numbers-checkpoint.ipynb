{
 "cells": [
  {
   "cell_type": "markdown",
   "id": "a922f880-cc54-4c2a-8c66-8576d851536f",
   "metadata": {},
   "source": [
    "# Countdown Numbers\n",
    "\n",
    "***"
   ]
  },
  {
   "cell_type": "code",
   "execution_count": 1,
   "id": "a687e89d-285f-49ea-badd-336daaa869eb",
   "metadata": {},
   "outputs": [],
   "source": [
    "# Permutations and combinations.\n",
    "import itertools as it"
   ]
  },
  {
   "cell_type": "code",
   "execution_count": 2,
   "id": "eb24cc25-00fe-4f7e-985a-3c09a58f9d8d",
   "metadata": {},
   "outputs": [],
   "source": [
    "# Random number generation.\n",
    "import random"
   ]
  },
  {
   "cell_type": "code",
   "execution_count": 3,
   "id": "b41f2231-2b1e-4837-9fca-261531fe85f9",
   "metadata": {},
   "outputs": [],
   "source": [
    "# Operators as functions.\n",
    "import operator"
   ]
  },
  {
   "cell_type": "markdown",
   "id": "e8096a0a-910f-4246-9c9c-5e766a101942",
   "metadata": {},
   "source": [
    "# Simulate a game\n",
    "\n",
    "***"
   ]
  },
  {
   "cell_type": "code",
   "execution_count": 4,
   "id": "ffd7adc4-db00-4f40-a0fe-ab9186692697",
   "metadata": {},
   "outputs": [
    {
     "data": {
      "text/plain": [
       "[25, 50, 75, 100]"
      ]
     },
     "execution_count": 4,
     "metadata": {},
     "output_type": "execute_result"
    }
   ],
   "source": [
    "# The large numbers.\n",
    "large = [25, 50, 75, 100]\n",
    "large"
   ]
  },
  {
   "cell_type": "code",
   "execution_count": 5,
   "id": "cc52e661-474f-4587-a211-ebc8733bfde3",
   "metadata": {},
   "outputs": [
    {
     "data": {
      "text/plain": [
       "[1, 2, 3, 4, 5, 6, 7, 8, 9, 10, 1, 2, 3, 4, 5, 6, 7, 8, 9, 10]"
      ]
     },
     "execution_count": 5,
     "metadata": {},
     "output_type": "execute_result"
    }
   ],
   "source": [
    "# The small numbers.\n",
    "small = list(range(1, 11)) * 2\n",
    "small"
   ]
  },
  {
   "cell_type": "code",
   "execution_count": 6,
   "id": "f2b86888-df9a-4321-a642-cbdb3b6a1cf4",
   "metadata": {},
   "outputs": [
    {
     "data": {
      "text/plain": [
       "3"
      ]
     },
     "execution_count": 6,
     "metadata": {},
     "output_type": "execute_result"
    }
   ],
   "source": [
    "# The number of large numbers to pick - between 0 and 4 inclusive.\n",
    "no_large = random.randrange(0, 5)\n",
    "no_large"
   ]
  },
  {
   "cell_type": "code",
   "execution_count": 7,
   "id": "a1bed534-eaf6-4ca5-9093-b90180ba77ec",
   "metadata": {},
   "outputs": [
    {
     "data": {
      "text/plain": [
       "[50, 100, 75]"
      ]
     },
     "execution_count": 7,
     "metadata": {},
     "output_type": "execute_result"
    }
   ],
   "source": [
    "# Select no_large large numbers at random.\n",
    "large_rand = random.sample(large, no_large)\n",
    "large_rand"
   ]
  },
  {
   "cell_type": "code",
   "execution_count": 8,
   "id": "dfb40804-e296-4dab-9f3a-45f3299b7f37",
   "metadata": {},
   "outputs": [
    {
     "data": {
      "text/plain": [
       "[3, 1, 4]"
      ]
     },
     "execution_count": 8,
     "metadata": {},
     "output_type": "execute_result"
    }
   ],
   "source": [
    "# Select (6 - no_large) small numbers at random.\n",
    "small_rand = random.sample(small, 6 - no_large)\n",
    "small_rand"
   ]
  },
  {
   "cell_type": "code",
   "execution_count": 9,
   "id": "2607faae-3955-4a87-8dd8-95f7806fbd08",
   "metadata": {},
   "outputs": [
    {
     "data": {
      "text/plain": [
       "558"
      ]
     },
     "execution_count": 9,
     "metadata": {},
     "output_type": "execute_result"
    }
   ],
   "source": [
    "# Pick a random target number.\n",
    "target = random.randrange(101, 1000)\n",
    "target"
   ]
  },
  {
   "cell_type": "code",
   "execution_count": 10,
   "id": "b0ada059-e195-426f-b18a-861371e3e259",
   "metadata": {},
   "outputs": [],
   "source": [
    "# For random nubmers and samples.\n",
    "import random\n",
    "\n",
    "\n",
    "def new_numbers_game(no_large=None):\n",
    "  \"\"\" Returns six numbers and a target number representing a Countdown numbers game.\n",
    "  \"\"\"\n",
    "  # If no_large in None, randomly pick value between 0 and 4 inclusive.\n",
    "  if no_large is None:\n",
    "    # Randomly set the value.\n",
    "    no_large = random.randrange(0, 5)\n",
    "  \n",
    "  # Select random large numbers.\n",
    "  large_rand = random.sample([25, 50, 75, 100], no_large)\n",
    "  # Select random small numbers.\n",
    "  small_rand = random.sample(list(range(1, 11)) * 2, 6 - no_large)\n",
    "  # The playing numbers.\n",
    "  play_nos = large_rand + small_rand\n",
    "\n",
    "  # Select a target number.\n",
    "  target = random.randrange(101, 1000)\n",
    "\n",
    "  # Return the game.\n",
    "  return play_nos, target"
   ]
  },
  {
   "cell_type": "code",
   "execution_count": 11,
   "id": "ea691000-196f-48c8-aeeb-5a1012b5aafc",
   "metadata": {},
   "outputs": [
    {
     "data": {
      "text/plain": [
       "([75, 100, 50, 25, 7, 3], 510)"
      ]
     },
     "execution_count": 11,
     "metadata": {},
     "output_type": "execute_result"
    }
   ],
   "source": [
    "# Random nubmers game.\n",
    "new_numbers_game()"
   ]
  },
  {
   "cell_type": "markdown",
   "id": "ed44b4a0-9feb-4b53-94bb-b0f3b63617a5",
   "metadata": {},
   "source": [
    "# Working Towards a Solution\n",
    "\n",
    "***"
   ]
  },
  {
   "cell_type": "code",
   "execution_count": 12,
   "id": "3538850b-7211-44df-bc43-26cf55351173",
   "metadata": {},
   "outputs": [
    {
     "data": {
      "text/plain": [
       "([25, 75, 1, 3, 9, 4], 435)"
      ]
     },
     "execution_count": 12,
     "metadata": {},
     "output_type": "execute_result"
    }
   ],
   "source": [
    "# A new example game.\n",
    "play_nos, target = new_numbers_game()\n",
    "play_nos, target"
   ]
  },
  {
   "cell_type": "code",
   "execution_count": 13,
   "id": "b1d56be0-9a3f-4824-a82e-626dffcdcad9",
   "metadata": {},
   "outputs": [
    {
     "name": "stdout",
     "output_type": "stream",
     "text": [
      "(25, 75)\n",
      "25 + 75 = 100\n",
      "25 * 75 = 1875\n",
      "\n",
      "(25, 1)\n",
      "25 + 1 = 26\n",
      "25 * 1 = 25\n",
      "25 - 1 = 24\n",
      "25 / 1 = 25\n",
      "\n",
      "(25, 3)\n",
      "25 + 3 = 28\n",
      "25 * 3 = 75\n",
      "25 - 3 = 22\n",
      "\n",
      "(25, 9)\n",
      "25 + 9 = 34\n",
      "25 * 9 = 225\n",
      "25 - 9 = 16\n",
      "\n",
      "(25, 4)\n",
      "25 + 4 = 29\n",
      "25 * 4 = 100\n",
      "25 - 4 = 21\n",
      "\n",
      "(75, 25)\n",
      "75 + 25 = 100\n",
      "75 * 25 = 1875\n",
      "75 - 25 = 50\n",
      "75 / 25 = 3\n",
      "\n",
      "(75, 1)\n",
      "75 + 1 = 76\n",
      "75 * 1 = 75\n",
      "75 - 1 = 74\n",
      "75 / 1 = 75\n",
      "\n",
      "(75, 3)\n",
      "75 + 3 = 78\n",
      "75 * 3 = 225\n",
      "75 - 3 = 72\n",
      "75 / 3 = 25\n",
      "\n",
      "(75, 9)\n",
      "75 + 9 = 84\n",
      "75 * 9 = 675\n",
      "75 - 9 = 66\n",
      "\n",
      "(75, 4)\n",
      "75 + 4 = 79\n",
      "75 * 4 = 300\n",
      "75 - 4 = 71\n",
      "\n",
      "(1, 25)\n",
      "1 + 25 = 26\n",
      "1 * 25 = 25\n",
      "\n",
      "(1, 75)\n",
      "1 + 75 = 76\n",
      "1 * 75 = 75\n",
      "\n",
      "(1, 3)\n",
      "1 + 3 = 4\n",
      "1 * 3 = 3\n",
      "\n",
      "(1, 9)\n",
      "1 + 9 = 10\n",
      "1 * 9 = 9\n",
      "\n",
      "(1, 4)\n",
      "1 + 4 = 5\n",
      "1 * 4 = 4\n",
      "\n",
      "(3, 25)\n",
      "3 + 25 = 28\n",
      "3 * 25 = 75\n",
      "\n",
      "(3, 75)\n",
      "3 + 75 = 78\n",
      "3 * 75 = 225\n",
      "\n",
      "(3, 1)\n",
      "3 + 1 = 4\n",
      "3 * 1 = 3\n",
      "3 - 1 = 2\n",
      "3 / 1 = 3\n",
      "\n",
      "(3, 9)\n",
      "3 + 9 = 12\n",
      "3 * 9 = 27\n",
      "\n",
      "(3, 4)\n",
      "3 + 4 = 7\n",
      "3 * 4 = 12\n",
      "\n",
      "(9, 25)\n",
      "9 + 25 = 34\n",
      "9 * 25 = 225\n",
      "\n",
      "(9, 75)\n",
      "9 + 75 = 84\n",
      "9 * 75 = 675\n",
      "\n",
      "(9, 1)\n",
      "9 + 1 = 10\n",
      "9 * 1 = 9\n",
      "9 - 1 = 8\n",
      "9 / 1 = 9\n",
      "\n",
      "(9, 3)\n",
      "9 + 3 = 12\n",
      "9 * 3 = 27\n",
      "9 - 3 = 6\n",
      "9 / 3 = 3\n",
      "\n",
      "(9, 4)\n",
      "9 + 4 = 13\n",
      "9 * 4 = 36\n",
      "9 - 4 = 5\n",
      "\n",
      "(4, 25)\n",
      "4 + 25 = 29\n",
      "4 * 25 = 100\n",
      "\n",
      "(4, 75)\n",
      "4 + 75 = 79\n",
      "4 * 75 = 300\n",
      "\n",
      "(4, 1)\n",
      "4 + 1 = 5\n",
      "4 * 1 = 4\n",
      "4 - 1 = 3\n",
      "4 / 1 = 4\n",
      "\n",
      "(4, 3)\n",
      "4 + 3 = 7\n",
      "4 * 3 = 12\n",
      "4 - 3 = 1\n",
      "\n",
      "(4, 9)\n",
      "4 + 9 = 13\n",
      "4 * 9 = 36\n",
      "\n"
     ]
    }
   ],
   "source": [
    "# Looping through all permutations of two playing numbers.\n",
    "for p in it.permutations(play_nos, 2):\n",
    "  # Print the two numbers.\n",
    "  print(p)\n",
    "  # Print their sum.\n",
    "  print(f'{p[0]} + {p[1]} = {p[0]+p[1]}')\n",
    "  # Print their product.\n",
    "  print(f'{p[0]} * {p[1]} = {p[0]*p[1]}')\n",
    "  # Print their difference if it is positive.\n",
    "  if p[0] - p[1] > 0:\n",
    "    print(f'{p[0]} - {p[1]} = {p[0]-p[1]}')\n",
    "  # Print their quotient if it is an integer.\n",
    "  if p[0] % p[1] == 0:\n",
    "    print(f'{p[0]} / {p[1]} = {p[0]//p[1]}')\n",
    "  # Print a blank line.\n",
    "  print()"
   ]
  },
  {
   "cell_type": "markdown",
   "id": "b6b49b26-c1c4-4eb7-bb47-014deed2fedc",
   "metadata": {},
   "source": [
    "# Operators and Functions\n",
    "\n",
    "***"
   ]
  },
  {
   "cell_type": "code",
   "execution_count": 14,
   "id": "55781797-0b57-4b6c-a495-2687cbc06dcb",
   "metadata": {},
   "outputs": [
    {
     "data": {
      "text/plain": [
       "9"
      ]
     },
     "execution_count": 14,
     "metadata": {},
     "output_type": "execute_result"
    }
   ],
   "source": [
    "# The + operator as a function.\n",
    "operator.add(4, 5)"
   ]
  },
  {
   "cell_type": "code",
   "execution_count": 15,
   "id": "f43f8d8a-d4bc-4ccb-ac6f-409aadc5f29d",
   "metadata": {},
   "outputs": [
    {
     "data": {
      "text/plain": [
       "20"
      ]
     },
     "execution_count": 15,
     "metadata": {},
     "output_type": "execute_result"
    }
   ],
   "source": [
    "# The * operator as a function.\n",
    "operator.mul(4, 5)"
   ]
  },
  {
   "cell_type": "code",
   "execution_count": 16,
   "id": "10d13b06-c91d-44fb-a95b-af5379b5bbec",
   "metadata": {},
   "outputs": [
    {
     "data": {
      "text/plain": [
       "-1"
      ]
     },
     "execution_count": 16,
     "metadata": {},
     "output_type": "execute_result"
    }
   ],
   "source": [
    "# The - operator as a function.\n",
    "operator.sub(4, 5)"
   ]
  },
  {
   "cell_type": "code",
   "execution_count": 17,
   "id": "be6439ad-09ac-4eb6-aa84-422be327e585",
   "metadata": {},
   "outputs": [
    {
     "data": {
      "text/plain": [
       "0.8"
      ]
     },
     "execution_count": 17,
     "metadata": {},
     "output_type": "execute_result"
    }
   ],
   "source": [
    "# The / operator as a function.\n",
    "operator.truediv(4, 5)"
   ]
  },
  {
   "cell_type": "code",
   "execution_count": 18,
   "id": "d00dfed8-fb36-4177-9051-4076ae5ddaf1",
   "metadata": {},
   "outputs": [
    {
     "data": {
      "text/plain": [
       "[<function _operator.add(a, b, /)>,\n",
       " <function _operator.mul(a, b, /)>,\n",
       " <function _operator.sub(a, b, /)>,\n",
       " <function _operator.truediv(a, b, /)>]"
      ]
     },
     "execution_count": 18,
     "metadata": {},
     "output_type": "execute_result"
    }
   ],
   "source": [
    "# The benefit of these is that they are first class objects.\n",
    "# Note the +, -, *, / operators can't be put in lists.\n",
    "ops = [operator.add, operator.mul, operator.sub, operator.truediv]\n",
    "ops"
   ]
  },
  {
   "cell_type": "code",
   "execution_count": 19,
   "id": "1c6938aa-6b20-45b5-a23e-d67a96337d26",
   "metadata": {},
   "outputs": [
    {
     "name": "stdout",
     "output_type": "stream",
     "text": [
      "(<built-in function add>, <built-in function mul>, <built-in function sub>, <built-in function truediv>, <built-in function add>)\n",
      "(<built-in function add>, <built-in function mul>, <built-in function sub>, <built-in function truediv>, <built-in function mul>)\n",
      "(<built-in function add>, <built-in function mul>, <built-in function sub>, <built-in function truediv>, <built-in function sub>)\n",
      "(<built-in function add>, <built-in function mul>, <built-in function sub>, <built-in function truediv>, <built-in function truediv>)\n",
      "(<built-in function add>, <built-in function mul>, <built-in function sub>, <built-in function truediv>, <built-in function add>)\n",
      "(<built-in function add>, <built-in function mul>, <built-in function sub>, <built-in function truediv>, <built-in function mul>)\n",
      "(<built-in function add>, <built-in function mul>, <built-in function sub>, <built-in function truediv>, <built-in function sub>)\n",
      "(<built-in function add>, <built-in function mul>, <built-in function sub>, <built-in function truediv>, <built-in function truediv>)\n",
      "(<built-in function add>, <built-in function mul>, <built-in function sub>, <built-in function truediv>, <built-in function add>)\n",
      "(<built-in function add>, <built-in function mul>, <built-in function sub>, <built-in function truediv>, <built-in function mul>)\n"
     ]
    }
   ],
   "source": [
    "# Using permutations we can get all permutations with replacement of five operations.\n",
    "# We use a limit because their are a large number.\n",
    "limit = 10\n",
    "for q in it.permutations(ops * 5, 5):\n",
    "  if limit == 0:\n",
    "    break\n",
    "  print(q)\n",
    "  limit = limit - 1"
   ]
  },
  {
   "cell_type": "markdown",
   "id": "4b0f64e2-8e03-49a6-a3f2-7249887d1f35",
   "metadata": {},
   "source": [
    "# Permutations and Combinations\n",
    "\n",
    "***"
   ]
  },
  {
   "cell_type": "code",
   "execution_count": 21,
   "id": "aad12fe5-b783-45a2-b12a-5e233a841f4e",
   "metadata": {},
   "outputs": [
    {
     "name": "stdout",
     "output_type": "stream",
     "text": [
      "(1, 2)\n",
      "(1, 3)\n",
      "(1, 4)\n",
      "(2, 3)\n",
      "(2, 4)\n",
      "(3, 4)\n"
     ]
    }
   ],
   "source": [
    "# Example of combinations.\n",
    "# Order matters: no. Replacement: no.\n",
    "L = [1, 2, 3, 4]\n",
    "for c in it.combinations(L, 2):\n",
    "  print(c)"
   ]
  },
  {
   "cell_type": "code",
   "execution_count": 22,
   "id": "dff74558-0271-4fd2-ae3c-d7d8490e9122",
   "metadata": {},
   "outputs": [
    {
     "name": "stdout",
     "output_type": "stream",
     "text": [
      "(1, 1)\n",
      "(1, 2)\n",
      "(1, 3)\n",
      "(1, 4)\n",
      "(2, 2)\n",
      "(2, 3)\n",
      "(2, 4)\n",
      "(3, 3)\n",
      "(3, 4)\n",
      "(4, 4)\n"
     ]
    }
   ],
   "source": [
    "# Example of combinations with replacement.\n",
    "# Order matters: no. Replacement: yes.\n",
    "L = [1, 2, 3, 4]\n",
    "for c in it.combinations_with_replacement(L, 2):\n",
    "  print(c)"
   ]
  },
  {
   "cell_type": "code",
   "execution_count": 23,
   "id": "172dcc6f-5001-4d61-92c9-a0aa7600b72e",
   "metadata": {},
   "outputs": [
    {
     "name": "stdout",
     "output_type": "stream",
     "text": [
      "(1, 2)\n",
      "(1, 3)\n",
      "(1, 4)\n",
      "(2, 1)\n",
      "(2, 3)\n",
      "(2, 4)\n",
      "(3, 1)\n",
      "(3, 2)\n",
      "(3, 4)\n",
      "(4, 1)\n",
      "(4, 2)\n",
      "(4, 3)\n"
     ]
    }
   ],
   "source": [
    "# Example of permutations of size 2.\n",
    "# Order matters: yes. Replacement: no.\n",
    "L = [1, 2, 3, 4]\n",
    "for c in it.permutations(L, 2):\n",
    "  print(c)"
   ]
  },
  {
   "cell_type": "code",
   "execution_count": 24,
   "id": "7f29b44d-3e47-4f36-8c60-2894610c8f72",
   "metadata": {},
   "outputs": [
    {
     "name": "stdout",
     "output_type": "stream",
     "text": [
      "(1, 1)\n",
      "(1, 2)\n",
      "(1, 3)\n",
      "(1, 4)\n",
      "(2, 1)\n",
      "(2, 2)\n",
      "(2, 3)\n",
      "(2, 4)\n",
      "(3, 1)\n",
      "(3, 2)\n",
      "(3, 3)\n",
      "(3, 4)\n",
      "(4, 1)\n",
      "(4, 2)\n",
      "(4, 3)\n",
      "(4, 4)\n"
     ]
    }
   ],
   "source": [
    "# Example of products of length 2.\n",
    "# Order matters: yes. Replacement: yes.\n",
    "L = [1, 2, 3, 4]\n",
    "for c in it.product(L, repeat=2):\n",
    "  print(c)"
   ]
  },
  {
   "cell_type": "code",
   "execution_count": 25,
   "id": "2344c2bc-98b5-4e48-ad6b-86f57a2bf900",
   "metadata": {},
   "outputs": [
    {
     "name": "stdout",
     "output_type": "stream",
     "text": [
      "(<built-in function add>, <built-in function add>, <built-in function add>, <built-in function add>, <built-in function add>)\n",
      "(<built-in function add>, <built-in function add>, <built-in function add>, <built-in function add>, <built-in function mul>)\n",
      "(<built-in function add>, <built-in function add>, <built-in function add>, <built-in function add>, <built-in function sub>)\n",
      "(<built-in function add>, <built-in function add>, <built-in function add>, <built-in function add>, <built-in function truediv>)\n",
      "(<built-in function add>, <built-in function add>, <built-in function add>, <built-in function mul>, <built-in function add>)\n",
      "(<built-in function add>, <built-in function add>, <built-in function add>, <built-in function mul>, <built-in function mul>)\n",
      "(<built-in function add>, <built-in function add>, <built-in function add>, <built-in function mul>, <built-in function sub>)\n",
      "(<built-in function add>, <built-in function add>, <built-in function add>, <built-in function mul>, <built-in function truediv>)\n",
      "(<built-in function add>, <built-in function add>, <built-in function add>, <built-in function sub>, <built-in function add>)\n",
      "(<built-in function add>, <built-in function add>, <built-in function add>, <built-in function sub>, <built-in function mul>)\n",
      "(<built-in function add>, <built-in function add>, <built-in function add>, <built-in function sub>, <built-in function sub>)\n",
      "(<built-in function add>, <built-in function add>, <built-in function add>, <built-in function sub>, <built-in function truediv>)\n",
      "(<built-in function add>, <built-in function add>, <built-in function add>, <built-in function truediv>, <built-in function add>)\n",
      "(<built-in function add>, <built-in function add>, <built-in function add>, <built-in function truediv>, <built-in function mul>)\n",
      "(<built-in function add>, <built-in function add>, <built-in function add>, <built-in function truediv>, <built-in function sub>)\n",
      "(<built-in function add>, <built-in function add>, <built-in function add>, <built-in function truediv>, <built-in function truediv>)\n",
      "(<built-in function add>, <built-in function add>, <built-in function mul>, <built-in function add>, <built-in function add>)\n",
      "(<built-in function add>, <built-in function add>, <built-in function mul>, <built-in function add>, <built-in function mul>)\n",
      "(<built-in function add>, <built-in function add>, <built-in function mul>, <built-in function add>, <built-in function sub>)\n",
      "(<built-in function add>, <built-in function add>, <built-in function mul>, <built-in function add>, <built-in function truediv>)\n",
      "(<built-in function add>, <built-in function add>, <built-in function mul>, <built-in function mul>, <built-in function add>)\n",
      "(<built-in function add>, <built-in function add>, <built-in function mul>, <built-in function mul>, <built-in function mul>)\n",
      "(<built-in function add>, <built-in function add>, <built-in function mul>, <built-in function mul>, <built-in function sub>)\n",
      "(<built-in function add>, <built-in function add>, <built-in function mul>, <built-in function mul>, <built-in function truediv>)\n",
      "(<built-in function add>, <built-in function add>, <built-in function mul>, <built-in function sub>, <built-in function add>)\n",
      "(<built-in function add>, <built-in function add>, <built-in function mul>, <built-in function sub>, <built-in function mul>)\n",
      "(<built-in function add>, <built-in function add>, <built-in function mul>, <built-in function sub>, <built-in function sub>)\n",
      "(<built-in function add>, <built-in function add>, <built-in function mul>, <built-in function sub>, <built-in function truediv>)\n",
      "(<built-in function add>, <built-in function add>, <built-in function mul>, <built-in function truediv>, <built-in function add>)\n",
      "(<built-in function add>, <built-in function add>, <built-in function mul>, <built-in function truediv>, <built-in function mul>)\n",
      "(<built-in function add>, <built-in function add>, <built-in function mul>, <built-in function truediv>, <built-in function sub>)\n",
      "(<built-in function add>, <built-in function add>, <built-in function mul>, <built-in function truediv>, <built-in function truediv>)\n",
      "(<built-in function add>, <built-in function add>, <built-in function sub>, <built-in function add>, <built-in function add>)\n",
      "(<built-in function add>, <built-in function add>, <built-in function sub>, <built-in function add>, <built-in function mul>)\n",
      "(<built-in function add>, <built-in function add>, <built-in function sub>, <built-in function add>, <built-in function sub>)\n",
      "(<built-in function add>, <built-in function add>, <built-in function sub>, <built-in function add>, <built-in function truediv>)\n",
      "(<built-in function add>, <built-in function add>, <built-in function sub>, <built-in function mul>, <built-in function add>)\n",
      "(<built-in function add>, <built-in function add>, <built-in function sub>, <built-in function mul>, <built-in function mul>)\n",
      "(<built-in function add>, <built-in function add>, <built-in function sub>, <built-in function mul>, <built-in function sub>)\n",
      "(<built-in function add>, <built-in function add>, <built-in function sub>, <built-in function mul>, <built-in function truediv>)\n",
      "(<built-in function add>, <built-in function add>, <built-in function sub>, <built-in function sub>, <built-in function add>)\n",
      "(<built-in function add>, <built-in function add>, <built-in function sub>, <built-in function sub>, <built-in function mul>)\n",
      "(<built-in function add>, <built-in function add>, <built-in function sub>, <built-in function sub>, <built-in function sub>)\n",
      "(<built-in function add>, <built-in function add>, <built-in function sub>, <built-in function sub>, <built-in function truediv>)\n",
      "(<built-in function add>, <built-in function add>, <built-in function sub>, <built-in function truediv>, <built-in function add>)\n",
      "(<built-in function add>, <built-in function add>, <built-in function sub>, <built-in function truediv>, <built-in function mul>)\n",
      "(<built-in function add>, <built-in function add>, <built-in function sub>, <built-in function truediv>, <built-in function sub>)\n",
      "(<built-in function add>, <built-in function add>, <built-in function sub>, <built-in function truediv>, <built-in function truediv>)\n",
      "(<built-in function add>, <built-in function add>, <built-in function truediv>, <built-in function add>, <built-in function add>)\n",
      "(<built-in function add>, <built-in function add>, <built-in function truediv>, <built-in function add>, <built-in function mul>)\n",
      "(<built-in function add>, <built-in function add>, <built-in function truediv>, <built-in function add>, <built-in function sub>)\n",
      "(<built-in function add>, <built-in function add>, <built-in function truediv>, <built-in function add>, <built-in function truediv>)\n",
      "(<built-in function add>, <built-in function add>, <built-in function truediv>, <built-in function mul>, <built-in function add>)\n",
      "(<built-in function add>, <built-in function add>, <built-in function truediv>, <built-in function mul>, <built-in function mul>)\n",
      "(<built-in function add>, <built-in function add>, <built-in function truediv>, <built-in function mul>, <built-in function sub>)\n",
      "(<built-in function add>, <built-in function add>, <built-in function truediv>, <built-in function mul>, <built-in function truediv>)\n",
      "(<built-in function add>, <built-in function add>, <built-in function truediv>, <built-in function sub>, <built-in function add>)\n",
      "(<built-in function add>, <built-in function add>, <built-in function truediv>, <built-in function sub>, <built-in function mul>)\n",
      "(<built-in function add>, <built-in function add>, <built-in function truediv>, <built-in function sub>, <built-in function sub>)\n",
      "(<built-in function add>, <built-in function add>, <built-in function truediv>, <built-in function sub>, <built-in function truediv>)\n",
      "(<built-in function add>, <built-in function add>, <built-in function truediv>, <built-in function truediv>, <built-in function add>)\n",
      "(<built-in function add>, <built-in function add>, <built-in function truediv>, <built-in function truediv>, <built-in function mul>)\n",
      "(<built-in function add>, <built-in function add>, <built-in function truediv>, <built-in function truediv>, <built-in function sub>)\n",
      "(<built-in function add>, <built-in function add>, <built-in function truediv>, <built-in function truediv>, <built-in function truediv>)\n",
      "(<built-in function add>, <built-in function mul>, <built-in function add>, <built-in function add>, <built-in function add>)\n",
      "(<built-in function add>, <built-in function mul>, <built-in function add>, <built-in function add>, <built-in function mul>)\n",
      "(<built-in function add>, <built-in function mul>, <built-in function add>, <built-in function add>, <built-in function sub>)\n",
      "(<built-in function add>, <built-in function mul>, <built-in function add>, <built-in function add>, <built-in function truediv>)\n",
      "(<built-in function add>, <built-in function mul>, <built-in function add>, <built-in function mul>, <built-in function add>)\n",
      "(<built-in function add>, <built-in function mul>, <built-in function add>, <built-in function mul>, <built-in function mul>)\n",
      "(<built-in function add>, <built-in function mul>, <built-in function add>, <built-in function mul>, <built-in function sub>)\n",
      "(<built-in function add>, <built-in function mul>, <built-in function add>, <built-in function mul>, <built-in function truediv>)\n",
      "(<built-in function add>, <built-in function mul>, <built-in function add>, <built-in function sub>, <built-in function add>)\n",
      "(<built-in function add>, <built-in function mul>, <built-in function add>, <built-in function sub>, <built-in function mul>)\n",
      "(<built-in function add>, <built-in function mul>, <built-in function add>, <built-in function sub>, <built-in function sub>)\n",
      "(<built-in function add>, <built-in function mul>, <built-in function add>, <built-in function sub>, <built-in function truediv>)\n",
      "(<built-in function add>, <built-in function mul>, <built-in function add>, <built-in function truediv>, <built-in function add>)\n",
      "(<built-in function add>, <built-in function mul>, <built-in function add>, <built-in function truediv>, <built-in function mul>)\n",
      "(<built-in function add>, <built-in function mul>, <built-in function add>, <built-in function truediv>, <built-in function sub>)\n",
      "(<built-in function add>, <built-in function mul>, <built-in function add>, <built-in function truediv>, <built-in function truediv>)\n",
      "(<built-in function add>, <built-in function mul>, <built-in function mul>, <built-in function add>, <built-in function add>)\n",
      "(<built-in function add>, <built-in function mul>, <built-in function mul>, <built-in function add>, <built-in function mul>)\n",
      "(<built-in function add>, <built-in function mul>, <built-in function mul>, <built-in function add>, <built-in function sub>)\n",
      "(<built-in function add>, <built-in function mul>, <built-in function mul>, <built-in function add>, <built-in function truediv>)\n",
      "(<built-in function add>, <built-in function mul>, <built-in function mul>, <built-in function mul>, <built-in function add>)\n",
      "(<built-in function add>, <built-in function mul>, <built-in function mul>, <built-in function mul>, <built-in function mul>)\n",
      "(<built-in function add>, <built-in function mul>, <built-in function mul>, <built-in function mul>, <built-in function sub>)\n",
      "(<built-in function add>, <built-in function mul>, <built-in function mul>, <built-in function mul>, <built-in function truediv>)\n",
      "(<built-in function add>, <built-in function mul>, <built-in function mul>, <built-in function sub>, <built-in function add>)\n",
      "(<built-in function add>, <built-in function mul>, <built-in function mul>, <built-in function sub>, <built-in function mul>)\n",
      "(<built-in function add>, <built-in function mul>, <built-in function mul>, <built-in function sub>, <built-in function sub>)\n",
      "(<built-in function add>, <built-in function mul>, <built-in function mul>, <built-in function sub>, <built-in function truediv>)\n",
      "(<built-in function add>, <built-in function mul>, <built-in function mul>, <built-in function truediv>, <built-in function add>)\n",
      "(<built-in function add>, <built-in function mul>, <built-in function mul>, <built-in function truediv>, <built-in function mul>)\n",
      "(<built-in function add>, <built-in function mul>, <built-in function mul>, <built-in function truediv>, <built-in function sub>)\n",
      "(<built-in function add>, <built-in function mul>, <built-in function mul>, <built-in function truediv>, <built-in function truediv>)\n",
      "(<built-in function add>, <built-in function mul>, <built-in function sub>, <built-in function add>, <built-in function add>)\n",
      "(<built-in function add>, <built-in function mul>, <built-in function sub>, <built-in function add>, <built-in function mul>)\n",
      "(<built-in function add>, <built-in function mul>, <built-in function sub>, <built-in function add>, <built-in function sub>)\n",
      "(<built-in function add>, <built-in function mul>, <built-in function sub>, <built-in function add>, <built-in function truediv>)\n"
     ]
    }
   ],
   "source": [
    "# Using product to generate all lists of five operations.\n",
    "ops = [operator.add, operator.mul, operator.sub, operator.truediv]\n",
    "limit = 100\n",
    "for q in it.product(ops, repeat=5):\n",
    "  if limit == 0:\n",
    "    break\n",
    "  print(q)\n",
    "  limit = limit - 1"
   ]
  },
  {
   "cell_type": "markdown",
   "id": "9bb06408-2f80-4894-912d-15731715a4d4",
   "metadata": {},
   "source": [
    "# Reverse Polish Notation\n",
    "\n",
    "***"
   ]
  },
  {
   "cell_type": "code",
   "execution_count": 26,
   "id": "4db9fcce-580a-4262-96e4-564e43080e60",
   "metadata": {},
   "outputs": [
    {
     "data": {
      "text/plain": [
       "23"
      ]
     },
     "execution_count": 26,
     "metadata": {},
     "output_type": "execute_result"
    }
   ],
   "source": [
    "# 3 4 5 * +\n",
    "3 + 4 * 5"
   ]
  },
  {
   "cell_type": "code",
   "execution_count": 27,
   "id": "581839c4-2a49-4aee-a138-38ef3c128f89",
   "metadata": {},
   "outputs": [
    {
     "data": {
      "text/plain": [
       "35"
      ]
     },
     "execution_count": 27,
     "metadata": {},
     "output_type": "execute_result"
    }
   ],
   "source": [
    "# 3 4 + 5 *\n",
    "(3 + 4) * 5"
   ]
  },
  {
   "cell_type": "markdown",
   "id": "5a156cd1-19b6-448e-9f8d-919d98897cb5",
   "metadata": {},
   "source": [
    "***\n",
    "\n",
    "# The End"
   ]
  },
  {
   "cell_type": "code",
   "execution_count": null,
   "id": "aa3ac028-c756-46b8-aed2-5e46b68872ef",
   "metadata": {},
   "outputs": [],
   "source": []
  }
 ],
 "metadata": {
  "kernelspec": {
   "display_name": "Python 3",
   "language": "python",
   "name": "python3"
  },
  "language_info": {
   "codemirror_mode": {
    "name": "ipython",
    "version": 3
   },
   "file_extension": ".py",
   "mimetype": "text/x-python",
   "name": "python",
   "nbconvert_exporter": "python",
   "pygments_lexer": "ipython3",
   "version": "3.8.8"
  }
 },
 "nbformat": 4,
 "nbformat_minor": 5
}
