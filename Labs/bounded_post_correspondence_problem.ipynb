{
 "cells": [
  {
   "cell_type": "markdown",
   "id": "96007f40-74c6-471c-92be-1b3321557a63",
   "metadata": {},
   "source": [
    "# Bounded Post Correspondence Problem\n",
    "\n",
    "***"
   ]
  },
  {
   "cell_type": "markdown",
   "id": "0abc9728-f280-4891-b915-f01a1aa2c1ac",
   "metadata": {},
   "source": [
    "### Bounded PCP"
   ]
  },
  {
   "cell_type": "markdown",
   "id": "93ebb6cc-8a80-4b74-86dc-38ec7cb3c9bc",
   "metadata": {},
   "source": [
    "$$ |S| \\leq K \\qquad K \\in \\mathbb{N} $$"
   ]
  },
  {
   "cell_type": "code",
   "execution_count": 4,
   "id": "99bb5e93-a1b5-4099-b1df-20721f239460",
   "metadata": {},
   "outputs": [],
   "source": [
    "# Write a solver for the bounded version.\n",
    "def bpcp_solver(L1, L2, K):\n",
    "    if correspond(L1, L2, K):\n",
    "        return True\n",
    "    else:\n",
    "        return False"
   ]
  },
  {
   "cell_type": "code",
   "execution_count": 5,
   "id": "17c41974-af36-480f-ae83-41f9c4ab55af",
   "metadata": {},
   "outputs": [],
   "source": [
    "# Correspond needs to state whether a solution S of max length K exists.\n",
    "def correspond(L1, L2, K):\n",
    "    # Your algorithm here.\n",
    "    return True if solution else False"
   ]
  },
  {
   "cell_type": "code",
   "execution_count": null,
   "id": "2648ab1a-4fa0-4ce5-9df8-38cefdbcdda9",
   "metadata": {},
   "outputs": [],
   "source": []
  }
 ],
 "metadata": {
  "kernelspec": {
   "display_name": "Python 3",
   "language": "python",
   "name": "python3"
  },
  "language_info": {
   "codemirror_mode": {
    "name": "ipython",
    "version": 3
   },
   "file_extension": ".py",
   "mimetype": "text/x-python",
   "name": "python",
   "nbconvert_exporter": "python",
   "pygments_lexer": "ipython3",
   "version": "3.8.8"
  }
 },
 "nbformat": 4,
 "nbformat_minor": 5
}
