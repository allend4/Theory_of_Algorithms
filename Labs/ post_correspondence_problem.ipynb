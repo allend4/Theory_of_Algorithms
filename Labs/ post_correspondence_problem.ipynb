{
 "cells": [
  {
   "cell_type": "markdown",
   "id": "64ba5f2d-3024-4cc1-b892-3e9113561bc7",
   "metadata": {},
   "source": [
    "# Post Corresponence Problem"
   ]
  },
  {
   "cell_type": "markdown",
   "id": "d760379e-dd7d-49fa-8548-6dbcf6d706e4",
   "metadata": {},
   "source": [
    "https://en.wikipedia.org/wiki/Post_correspondence_problem\n",
    "***"
   ]
  },
  {
   "cell_type": "markdown",
   "id": "8939dd94-45fb-4fa1-bf72-c47caeb38d39",
   "metadata": {},
   "source": [
    "## Wikipedia - Example instances of the problem"
   ]
  },
  {
   "cell_type": "markdown",
   "id": "868bc123-51a7-42ec-88c4-ca50df6bb9b1",
   "metadata": {},
   "source": [
    "<br>\n",
    "\n",
    "### Correspondence"
   ]
  },
  {
   "cell_type": "code",
   "execution_count": 6,
   "id": "96e0c71f-0c04-4519-b844-5b4d860cf36c",
   "metadata": {},
   "outputs": [],
   "source": [
    "# example from wikipedia\n",
    "A = {'a', 'b'}"
   ]
  },
  {
   "cell_type": "code",
   "execution_count": 2,
   "id": "fd697246-1cff-48aa-b1aa-9c2509342a82",
   "metadata": {},
   "outputs": [],
   "source": [
    "L1 = ['a', 'ab', 'bba']"
   ]
  },
  {
   "cell_type": "code",
   "execution_count": 5,
   "id": "15a7524d-e49a-45ec-8720-8d02b73fa21e",
   "metadata": {},
   "outputs": [],
   "source": [
    "L2 = ['baa', 'aa', 'bb']"
   ]
  },
  {
   "cell_type": "code",
   "execution_count": 16,
   "id": "096ca7ee-d5b0-40d4-8886-a121927bf961",
   "metadata": {},
   "outputs": [],
   "source": [
    "S = [2, 1, 2, 0]"
   ]
  },
  {
   "cell_type": "code",
   "execution_count": 9,
   "id": "65723d4d-2896-43e0-bbe5-dffb392e1fa1",
   "metadata": {},
   "outputs": [
    {
     "data": {
      "text/plain": [
       "'bbaabbbaa'"
      ]
     },
     "execution_count": 9,
     "metadata": {},
     "output_type": "execute_result"
    }
   ],
   "source": [
    "# Apply S to L1\n",
    "'bba' + 'ab' + 'bba' + 'a'"
   ]
  },
  {
   "cell_type": "code",
   "execution_count": 10,
   "id": "20c7f35f-7281-4e10-82b0-2384753089c6",
   "metadata": {},
   "outputs": [
    {
     "data": {
      "text/plain": [
       "'bbaabbbba'"
      ]
     },
     "execution_count": 10,
     "metadata": {},
     "output_type": "execute_result"
    }
   ],
   "source": [
    "# Apply S to L2\n",
    "'bb' + 'aa' + 'bb' + 'bba'"
   ]
  },
  {
   "cell_type": "markdown",
   "id": "70e5c733-ca71-4359-87d1-7a7c42cbaa96",
   "metadata": {},
   "source": [
    "So, L1 corresponds to L2."
   ]
  },
  {
   "cell_type": "code",
   "execution_count": 13,
   "id": "8199fc2e-d17e-4970-b1bd-c35389fb3799",
   "metadata": {},
   "outputs": [],
   "source": [
    "def apply (S, L):\n",
    "    S_on_L = [L[i] for i in S]\n",
    "    return ''.join(S_on_L)"
   ]
  },
  {
   "cell_type": "code",
   "execution_count": 17,
   "id": "cd8b4f31-e731-4876-ab8a-46dfb9c0d274",
   "metadata": {},
   "outputs": [
    {
     "data": {
      "text/plain": [
       "'bbaabbbaa'"
      ]
     },
     "execution_count": 17,
     "metadata": {},
     "output_type": "execute_result"
    }
   ],
   "source": [
    "apply(S, L1)"
   ]
  },
  {
   "cell_type": "code",
   "execution_count": 19,
   "id": "b7156be8-6763-49a9-bccc-d7c55883892b",
   "metadata": {},
   "outputs": [
    {
     "data": {
      "text/plain": [
       "['bba', 'ab', 'bba', 'a']"
      ]
     },
     "execution_count": 19,
     "metadata": {},
     "output_type": "execute_result"
    }
   ],
   "source": [
    "# List comprehension - loops through elements of S. (building a list from another list).\n",
    "[L1[i] for i in S]"
   ]
  },
  {
   "cell_type": "code",
   "execution_count": 22,
   "id": "cfd33738-d575-4c4f-a83a-11440eecd799",
   "metadata": {},
   "outputs": [
    {
     "data": {
      "text/plain": [
       "'oneJOINtwoJOINthree'"
      ]
     },
     "execution_count": 22,
     "metadata": {},
     "output_type": "execute_result"
    }
   ],
   "source": [
    "# Join method - takes the Strings in the list and join them together using the String given 'JOIN'.\n",
    "'JOIN'.join(['one', 'two', 'three'])"
   ]
  },
  {
   "cell_type": "code",
   "execution_count": 25,
   "id": "80fcd9f6-5be7-430d-b7c6-750dfa59283f",
   "metadata": {},
   "outputs": [
    {
     "data": {
      "text/plain": [
       "'bbaabbbaa'"
      ]
     },
     "execution_count": 25,
     "metadata": {},
     "output_type": "execute_result"
    }
   ],
   "source": [
    "apply(S, L1)"
   ]
  },
  {
   "cell_type": "code",
   "execution_count": 26,
   "id": "022a2afe-6227-4570-82f6-6ef90aee5491",
   "metadata": {},
   "outputs": [
    {
     "data": {
      "text/plain": [
       "'bbaabbbaa'"
      ]
     },
     "execution_count": 26,
     "metadata": {},
     "output_type": "execute_result"
    }
   ],
   "source": [
    "apply(S, L2)"
   ]
  },
  {
   "cell_type": "code",
   "execution_count": 28,
   "id": "841a540a-353a-4a68-a71f-352dbe5a876e",
   "metadata": {},
   "outputs": [
    {
     "data": {
      "text/plain": [
       "True"
      ]
     },
     "execution_count": 28,
     "metadata": {},
     "output_type": "execute_result"
    }
   ],
   "source": [
    "# compare Strings\n",
    "apply(S, L1) == apply(S, L1)"
   ]
  },
  {
   "cell_type": "markdown",
   "id": "2b545645-db84-431f-b3a3-32f2a54972d0",
   "metadata": {},
   "source": [
    "Demonstrates the fact that L1 and L2 have a correspondence"
   ]
  },
  {
   "cell_type": "code",
   "execution_count": 30,
   "id": "1def0fa6-9b5c-4d56-9750-ffd9754ded5f",
   "metadata": {},
   "outputs": [
    {
     "data": {
      "text/plain": [
       "'bbaabbbaabbaabbbaa'"
      ]
     },
     "execution_count": 30,
     "metadata": {},
     "output_type": "execute_result"
    }
   ],
   "source": [
    "apply([2, 1, 2, 0, 2, 1, 2, 0], L1)"
   ]
  },
  {
   "cell_type": "code",
   "execution_count": 31,
   "id": "c513dafe-3557-44d2-8af9-d2f9dfb40e28",
   "metadata": {},
   "outputs": [
    {
     "data": {
      "text/plain": [
       "'bbaabbbaabbaabbbaa'"
      ]
     },
     "execution_count": 31,
     "metadata": {},
     "output_type": "execute_result"
    }
   ],
   "source": [
    "apply([2, 1, 2, 0, 2, 1, 2, 0], L2)"
   ]
  },
  {
   "cell_type": "markdown",
   "id": "d63efa4b-f8c9-4113-bd60-9a40c3120c61",
   "metadata": {},
   "source": [
    "<b>Correspond:</b> Two lists, thats have the same length, contain strings over the same alphabet.<br>\n",
    "<b>Do NOT correspond:</b> lists that are not the same length NEVER correspond. "
   ]
  },
  {
   "cell_type": "markdown",
   "id": "01291cda-ea13-4626-94bd-854c4ae3095a",
   "metadata": {},
   "source": [
    "<br>\n",
    "\n",
    "### No Correspondence"
   ]
  },
  {
   "cell_type": "code",
   "execution_count": 36,
   "id": "9c86b06c-c558-4645-8caf-27bd30c3d88c",
   "metadata": {},
   "outputs": [],
   "source": [
    "L1 = ['ab', 'bba']"
   ]
  },
  {
   "cell_type": "code",
   "execution_count": 40,
   "id": "c63d4a98-70e9-4357-a794-65724d776a8f",
   "metadata": {},
   "outputs": [],
   "source": [
    "L2 = ['aa', 'bb']"
   ]
  },
  {
   "cell_type": "code",
   "execution_count": null,
   "id": "e835f424-649f-42f7-bab4-330e447feb2a",
   "metadata": {},
   "outputs": [],
   "source": [
    "S = ?"
   ]
  },
  {
   "cell_type": "markdown",
   "id": "751cf0f6-2a18-4698-a556-90a98b8116c7",
   "metadata": {},
   "source": [
    "$$ (L_1,L_2) \\rightarrow \\{True, False\\} \\qquad |L_1| = |L_2| $$"
   ]
  },
  {
   "cell_type": "markdown",
   "id": "200d56a4-6323-4b7e-b61d-35f7718d42eb",
   "metadata": {},
   "source": [
    "Some instances can show that things do / do not correspond. (based on Strings in lists)<br>\n",
    "But in general NO algorithm to show that they do / do not correspond. <br>\n",
    "A perfect example of a problem that looks like it can be solved, but it cant!"
   ]
  },
  {
   "cell_type": "markdown",
   "id": "34b431a1-8f08-467d-a369-6f1b2fd9d137",
   "metadata": {},
   "source": [
    "***\n",
    "\n",
    "# The End"
   ]
  }
 ],
 "metadata": {
  "kernelspec": {
   "display_name": "Python 3",
   "language": "python",
   "name": "python3"
  },
  "language_info": {
   "codemirror_mode": {
    "name": "ipython",
    "version": 3
   },
   "file_extension": ".py",
   "mimetype": "text/x-python",
   "name": "python",
   "nbconvert_exporter": "python",
   "pygments_lexer": "ipython3",
   "version": "3.8.8"
  }
 },
 "nbformat": 4,
 "nbformat_minor": 5
}
