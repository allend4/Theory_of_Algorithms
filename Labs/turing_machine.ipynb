{
 "cells": [
  {
   "cell_type": "markdown",
   "id": "6e1478ec-4dd9-48db-9b08-90b8aaa679d6",
   "metadata": {},
   "source": [
    "# Turing machine\n",
    "\n",
    "***"
   ]
  },
  {
   "cell_type": "markdown",
   "id": "30006761-182e-4779-ae7e-82f8468ca85a",
   "metadata": {},
   "source": [
    " $\\begin{array}{x{1cm}x{1cm}x{1cm}x{1cm}x{1cm}}\n",
    "    \\textrm{State} & \\textrm{Input} & \\textrm{Write} & \\textrm{Move} & \\textrm{Next} \\\\\n",
    "    \\hline\n",
    "    A & 0  & 0  & R & A \\\\ \n",
    "    A & 1  & 1  & R & B \\\\\n",
    "    A & \\sqcup & \\sqcup & L & T \\ \n",
    "    \\hline\n",
    "    B & 0  & 0  & R & B \n",
    "    B & 1  & 1  & R & A \n",
    "    B & \\sqcup & \\sqcup & L & F \n",
    "    \\hline\n",
    "\\end{array}$"
   ]
  },
  {
   "cell_type": "code",
   "execution_count": 25,
   "id": "58db7006-20e1-4a31-820a-df2598b46f80",
   "metadata": {},
   "outputs": [
    {
     "data": {
      "text/plain": [
       "[['A', '0', '0', 'R', 'A'],\n",
       " ['A', '1', '1', 'R', 'B'],\n",
       " ['A', '_', '_', 'L', 'T'],\n",
       " ['B', '0', '0', 'R', 'B'],\n",
       " ['B', '1', '1', 'R', 'A'],\n",
       " ['B', '_', '_', 'L', 'F']]"
      ]
     },
     "execution_count": 25,
     "metadata": {},
     "output_type": "execute_result"
    }
   ],
   "source": [
    "# Represent the state table in some Python data structure.\n",
    "states = [\n",
    "    ['A', '0', '0', 'R', 'A'],\n",
    "    ['A', '1', '1', 'R', 'B'],\n",
    "    ['A', '_', '_', 'L', 'T'],\n",
    "    ['B', '0', '0', 'R', 'B'],\n",
    "    ['B', '1', '1', 'R', 'A'],\n",
    "    ['B', '_', '_', 'L', 'F'],\n",
    "]\n",
    "states"
   ]
  },
  {
   "cell_type": "code",
   "execution_count": 3,
   "id": "754b4077-b641-4dff-bb5a-17f36876a5cd",
   "metadata": {},
   "outputs": [],
   "source": [
    "# Get the Turing machine to take a single step forward.\n",
    "def step(tape, pos, state, states):\n",
    "    # If tape is an empty string, put a blank symbol on it.\n",
    "    if not tape:\n",
    "        tape = ['_'] + tape\n",
    "    # Select the correct row of the table.\n",
    "    for row in states:\n",
    "        if row[0] == state and row[1] == tape[pos]:\n",
    "            break\n",
    "    # Over-write current symbol.\n",
    "    tape[pos] = row[2]\n",
    "    # Move left or right.\n",
    "    if row[3] == 'R':\n",
    "        pos = pos + 1\n",
    "    else:\n",
    "        pos = pos - 1\n",
    "    # Fix the tape if we go off either end.\n",
    "    while pos < 0:\n",
    "        tape = ['_'] + tape\n",
    "        pos = pos + 1\n",
    "    while pos >= len(tape):\n",
    "        tape = tape + ['_']\n",
    "    # Change the state.\n",
    "    state = row[4]\n",
    "    # Return the new configuration.\n",
    "    return tape, pos, state"
   ]
  },
  {
   "cell_type": "code",
   "execution_count": 4,
   "id": "6c1a6eef-7979-4d4f-9376-bed7e3260db4",
   "metadata": {},
   "outputs": [],
   "source": [
    "# Run the machine.\n",
    "def run_machine(states, tape):\n",
    "    # Start state is top left in state table.\n",
    "    state = states[0][0]\n",
    "    # Starting position is leftmost cell of the tape.\n",
    "    pos = 0\n",
    "    # Turn the tape into a list.\n",
    "    tape = list(tape)\n",
    "    # Run the machine until we get a terminal state.\n",
    "    while state not in {'T', 'F'}:\n",
    "        # Display the current configuration.\n",
    "        print(state, f'{pos:2}', ''.join(tape))\n",
    "        # Step the machine forward.\n",
    "        tape, pos, state = step(tape, pos, state, states)\n",
    "    # Show the final configuration.\n",
    "    print(state, f'{pos:2}', ''.join(tape))"
   ]
  },
  {
   "cell_type": "code",
   "execution_count": 5,
   "id": "92b5f42f-ed35-45b0-92b1-cdcac5bb11c9",
   "metadata": {},
   "outputs": [
    {
     "name": "stdout",
     "output_type": "stream",
     "text": [
      "A  0 111\n",
      "B  1 111\n",
      "A  2 111\n",
      "B  3 111_\n",
      "F  2 111_\n"
     ]
    }
   ],
   "source": [
    "# Run an example.\n",
    "run_machine(states, '111')"
   ]
  },
  {
   "cell_type": "code",
   "execution_count": null,
   "id": "0cdc34c6-553c-484f-a4f0-450f2fa99be4",
   "metadata": {},
   "outputs": [],
   "source": []
  }
 ],
 "metadata": {
  "kernelspec": {
   "display_name": "Python 3",
   "language": "python",
   "name": "python3"
  },
  "language_info": {
   "codemirror_mode": {
    "name": "ipython",
    "version": 3
   },
   "file_extension": ".py",
   "mimetype": "text/x-python",
   "name": "python",
   "nbconvert_exporter": "python",
   "pygments_lexer": "ipython3",
   "version": "3.8.8"
  }
 },
 "nbformat": 4,
 "nbformat_minor": 5
}
